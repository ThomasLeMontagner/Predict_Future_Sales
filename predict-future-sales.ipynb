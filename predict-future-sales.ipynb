{
 "cells": [
  {
   "cell_type": "markdown",
   "id": "be11fbca",
   "metadata": {
    "_cell_guid": "b1076dfc-b9ad-4769-8c92-a6c4dae69d19",
    "_uuid": "8f2839f25d086af736a60e9eeb907d3b93b6e0e5",
    "execution": {
     "iopub.execute_input": "2022-04-27T16:50:35.901264Z",
     "iopub.status.busy": "2022-04-27T16:50:35.900943Z",
     "iopub.status.idle": "2022-04-27T16:50:35.910123Z",
     "shell.execute_reply": "2022-04-27T16:50:35.909453Z",
     "shell.execute_reply.started": "2022-04-27T16:50:35.901228Z"
    },
    "papermill": {
     "duration": 0.029303,
     "end_time": "2022-04-29T16:52:01.090827",
     "exception": false,
     "start_time": "2022-04-29T16:52:01.061524",
     "status": "completed"
    },
    "tags": []
   },
   "source": [
    "# Table of Contents\n",
    "to be included"
   ]
  },
  {
   "cell_type": "code",
   "execution_count": 1,
   "id": "bbeafa16",
   "metadata": {
    "execution": {
     "iopub.execute_input": "2022-04-29T16:52:01.147038Z",
     "iopub.status.busy": "2022-04-29T16:52:01.146662Z",
     "iopub.status.idle": "2022-04-29T16:52:02.273610Z",
     "shell.execute_reply": "2022-04-29T16:52:02.272724Z"
    },
    "papermill": {
     "duration": 1.157386,
     "end_time": "2022-04-29T16:52:02.276036",
     "exception": false,
     "start_time": "2022-04-29T16:52:01.118650",
     "status": "completed"
    },
    "tags": []
   },
   "outputs": [],
   "source": [
    "# Imports...\n",
    "import matplotlib.pyplot as plt\n",
    "import seaborn as sns\n",
    "from math import ceil\n",
    "import numpy as np # linear algebra\n",
    "import pandas as pd # data processing, CSV file I/O (e.g. pd.read_csv)"
   ]
  },
  {
   "cell_type": "code",
   "execution_count": 2,
   "id": "b98789a8",
   "metadata": {
    "execution": {
     "iopub.execute_input": "2022-04-29T16:52:02.330763Z",
     "iopub.status.busy": "2022-04-29T16:52:02.330473Z",
     "iopub.status.idle": "2022-04-29T16:52:05.262980Z",
     "shell.execute_reply": "2022-04-29T16:52:05.262088Z"
    },
    "papermill": {
     "duration": 2.962633,
     "end_time": "2022-04-29T16:52:05.265385",
     "exception": false,
     "start_time": "2022-04-29T16:52:02.302752",
     "status": "completed"
    },
    "tags": []
   },
   "outputs": [],
   "source": [
    "# get all data\n",
    "sales_train = pd.read_csv(\"../input/competitive-data-science-predict-future-sales/sales_train.csv\")\n",
    "items = pd.read_csv(\"../input/competitive-data-science-predict-future-sales/items.csv\")\n",
    "item_cat = pd.read_csv(\"../input/competitive-data-science-predict-future-sales/item_categories.csv\")\n",
    "shops = pd.read_csv(\"../input/competitive-data-science-predict-future-sales/shops.csv\")\n",
    "test = pd.read_csv(\"../input/competitive-data-science-predict-future-sales/test.csv\")"
   ]
  },
  {
   "cell_type": "markdown",
   "id": "84678226",
   "metadata": {
    "papermill": {
     "duration": 0.026756,
     "end_time": "2022-04-29T16:52:05.318698",
     "exception": false,
     "start_time": "2022-04-29T16:52:05.291942",
     "status": "completed"
    },
    "tags": []
   },
   "source": [
    "# Introduction"
   ]
  },
  {
   "cell_type": "markdown",
   "id": "1baf19d2",
   "metadata": {
    "papermill": {
     "duration": 0.025798,
     "end_time": "2022-04-29T16:52:05.370623",
     "exception": false,
     "start_time": "2022-04-29T16:52:05.344825",
     "status": "completed"
    },
    "tags": []
   },
   "source": [
    "Given the following data :\n",
    "* sales_train.csv\n",
    "* test.csv\n",
    "* sample_submission.csv\n",
    "* items.csv\n",
    "* item_categories.csv\n",
    "* shops.csv <br>\n",
    "\n",
    "**The task is to forecast the total amount of products sold in every shop for the test set. Note that the list of shops and products slightly changes every month. Creating a robust model that can handle such situations is part of the challenge.**\n",
    "\n",
    "Data fields\n",
    "* **ID** - an Id that represents a (Shop, Item) tuple within the test set\n",
    "* **shop_id** - unique identifier of a shop\n",
    "* **item_id** - unique identifier of a product\n",
    "* **item_category_id** - unique identifier of item category\n",
    "* **item_cnt_day** - number of products sold. You are predicting a monthly amount of this measure\n",
    "* **item_price** - current price of an item\n",
    "* **date** - date in format dd/mm/yyyy\n",
    "* **date_block_num** - a consecutive month number, used for convenience. January 2013 is 0, February 2013 is 1,..., October 2015 is 33\n",
    "* **item_name** - name of item\n",
    "* **shop_name** - name of shop\n",
    "* **item_category_name** - name of item category"
   ]
  },
  {
   "cell_type": "markdown",
   "id": "2dda812c",
   "metadata": {
    "papermill": {
     "duration": 0.025831,
     "end_time": "2022-04-29T16:52:05.423897",
     "exception": false,
     "start_time": "2022-04-29T16:52:05.398066",
     "status": "completed"
    },
    "tags": []
   },
   "source": [
    "# Overview of data"
   ]
  },
  {
   "cell_type": "code",
   "execution_count": 3,
   "id": "95d3e76c",
   "metadata": {
    "execution": {
     "iopub.execute_input": "2022-04-29T16:52:05.480694Z",
     "iopub.status.busy": "2022-04-29T16:52:05.480299Z",
     "iopub.status.idle": "2022-04-29T16:52:05.512270Z",
     "shell.execute_reply": "2022-04-29T16:52:05.511351Z"
    },
    "papermill": {
     "duration": 0.064135,
     "end_time": "2022-04-29T16:52:05.514678",
     "exception": false,
     "start_time": "2022-04-29T16:52:05.450543",
     "status": "completed"
    },
    "tags": []
   },
   "outputs": [
    {
     "name": "stdout",
     "output_type": "stream",
     "text": [
      "         date  date_block_num  shop_id  item_id  item_price  item_cnt_day\n",
      "0  02.01.2013               0       59    22154      999.00           1.0\n",
      "1  03.01.2013               0       25     2552      899.00           1.0\n",
      "2  05.01.2013               0       25     2552      899.00          -1.0\n",
      "3  06.01.2013               0       25     2554     1709.05           1.0\n",
      "4  15.01.2013               0       25     2555     1099.00           1.0\n",
      "5  10.01.2013               0       25     2564      349.00           1.0\n",
      "6  02.01.2013               0       25     2565      549.00           1.0\n",
      "7  04.01.2013               0       25     2572      239.00           1.0\n",
      "8  11.01.2013               0       25     2572      299.00           1.0\n",
      "9  03.01.2013               0       25     2573      299.00           3.0\n",
      "\n",
      "<class 'pandas.core.frame.DataFrame'>\n",
      "RangeIndex: 2935849 entries, 0 to 2935848\n",
      "Data columns (total 6 columns):\n",
      " #   Column          Dtype  \n",
      "---  ------          -----  \n",
      " 0   date            object \n",
      " 1   date_block_num  int64  \n",
      " 2   shop_id         int64  \n",
      " 3   item_id         int64  \n",
      " 4   item_price      float64\n",
      " 5   item_cnt_day    float64\n",
      "dtypes: float64(2), int64(3), object(1)\n",
      "memory usage: 134.4+ MB\n",
      "None\n"
     ]
    }
   ],
   "source": [
    "# sales_train\n",
    "print(sales_train.head(10))\n",
    "print()\n",
    "print(sales_train.info())"
   ]
  },
  {
   "cell_type": "code",
   "execution_count": 4,
   "id": "469f01f0",
   "metadata": {
    "execution": {
     "iopub.execute_input": "2022-04-29T16:52:05.571835Z",
     "iopub.status.busy": "2022-04-29T16:52:05.571541Z",
     "iopub.status.idle": "2022-04-29T16:52:05.580855Z",
     "shell.execute_reply": "2022-04-29T16:52:05.579799Z"
    },
    "papermill": {
     "duration": 0.041203,
     "end_time": "2022-04-29T16:52:05.584018",
     "exception": false,
     "start_time": "2022-04-29T16:52:05.542815",
     "status": "completed"
    },
    "tags": []
   },
   "outputs": [
    {
     "name": "stdout",
     "output_type": "stream",
     "text": [
      "                                           item_name  item_id  \\\n",
      "0          ! ВО ВЛАСТИ НАВАЖДЕНИЯ (ПЛАСТ.)         D        0   \n",
      "1  !ABBYY FineReader 12 Professional Edition Full...        1   \n",
      "2      ***В ЛУЧАХ СЛАВЫ   (UNV)                    D        2   \n",
      "3    ***ГОЛУБАЯ ВОЛНА  (Univ)                      D        3   \n",
      "4        ***КОРОБКА (СТЕКЛО)                       D        4   \n",
      "\n",
      "   item_category_id  \n",
      "0                40  \n",
      "1                76  \n",
      "2                40  \n",
      "3                40  \n",
      "4                40  \n",
      "\n",
      "                                           item_name  item_id  \\\n",
      "0          ! ВО ВЛАСТИ НАВАЖДЕНИЯ (ПЛАСТ.)         D        0   \n",
      "1  !ABBYY FineReader 12 Professional Edition Full...        1   \n",
      "2      ***В ЛУЧАХ СЛАВЫ   (UNV)                    D        2   \n",
      "3    ***ГОЛУБАЯ ВОЛНА  (Univ)                      D        3   \n",
      "4        ***КОРОБКА (СТЕКЛО)                       D        4   \n",
      "\n",
      "   item_category_id  \n",
      "0                40  \n",
      "1                76  \n",
      "2                40  \n",
      "3                40  \n",
      "4                40  \n"
     ]
    }
   ],
   "source": [
    "# Items\n",
    "print(items.head())\n",
    "print()\n",
    "print(items.head())"
   ]
  },
  {
   "cell_type": "code",
   "execution_count": 5,
   "id": "5a19c8a7",
   "metadata": {
    "execution": {
     "iopub.execute_input": "2022-04-29T16:52:05.641675Z",
     "iopub.status.busy": "2022-04-29T16:52:05.641408Z",
     "iopub.status.idle": "2022-04-29T16:52:05.654830Z",
     "shell.execute_reply": "2022-04-29T16:52:05.653840Z"
    },
    "papermill": {
     "duration": 0.044958,
     "end_time": "2022-04-29T16:52:05.657802",
     "exception": false,
     "start_time": "2022-04-29T16:52:05.612844",
     "status": "completed"
    },
    "tags": []
   },
   "outputs": [
    {
     "name": "stdout",
     "output_type": "stream",
     "text": [
      "        item_category_name  item_category_id\n",
      "0  PC - Гарнитуры/Наушники                 0\n",
      "1         Аксессуары - PS2                 1\n",
      "2         Аксессуары - PS3                 2\n",
      "3         Аксессуары - PS4                 3\n",
      "4         Аксессуары - PSP                 4\n",
      "\n",
      "<class 'pandas.core.frame.DataFrame'>\n",
      "RangeIndex: 84 entries, 0 to 83\n",
      "Data columns (total 2 columns):\n",
      " #   Column              Non-Null Count  Dtype \n",
      "---  ------              --------------  ----- \n",
      " 0   item_category_name  84 non-null     object\n",
      " 1   item_category_id    84 non-null     int64 \n",
      "dtypes: int64(1), object(1)\n",
      "memory usage: 1.4+ KB\n",
      "None\n"
     ]
    }
   ],
   "source": [
    "# Items categories\n",
    "print(item_cat.head())\n",
    "print()\n",
    "print(item_cat.info())"
   ]
  },
  {
   "cell_type": "code",
   "execution_count": 6,
   "id": "289151a5",
   "metadata": {
    "execution": {
     "iopub.execute_input": "2022-04-29T16:52:05.717631Z",
     "iopub.status.busy": "2022-04-29T16:52:05.717362Z",
     "iopub.status.idle": "2022-04-29T16:52:05.730330Z",
     "shell.execute_reply": "2022-04-29T16:52:05.729266Z"
    },
    "papermill": {
     "duration": 0.045927,
     "end_time": "2022-04-29T16:52:05.733062",
     "exception": false,
     "start_time": "2022-04-29T16:52:05.687135",
     "status": "completed"
    },
    "tags": []
   },
   "outputs": [
    {
     "name": "stdout",
     "output_type": "stream",
     "text": [
      "                        shop_name  shop_id\n",
      "0   !Якутск Орджоникидзе, 56 фран        0\n",
      "1   !Якутск ТЦ \"Центральный\" фран        1\n",
      "2                Адыгея ТЦ \"Мега\"        2\n",
      "3  Балашиха ТРК \"Октябрь-Киномир\"        3\n",
      "4        Волжский ТЦ \"Волга Молл\"        4\n",
      "\n",
      "<class 'pandas.core.frame.DataFrame'>\n",
      "RangeIndex: 60 entries, 0 to 59\n",
      "Data columns (total 2 columns):\n",
      " #   Column     Non-Null Count  Dtype \n",
      "---  ------     --------------  ----- \n",
      " 0   shop_name  60 non-null     object\n",
      " 1   shop_id    60 non-null     int64 \n",
      "dtypes: int64(1), object(1)\n",
      "memory usage: 1.1+ KB\n",
      "None\n"
     ]
    }
   ],
   "source": [
    "# shops\n",
    "print(shops.head())\n",
    "print()\n",
    "print(shops.info())"
   ]
  },
  {
   "cell_type": "code",
   "execution_count": 7,
   "id": "fa4fd307",
   "metadata": {
    "execution": {
     "iopub.execute_input": "2022-04-29T16:52:05.791310Z",
     "iopub.status.busy": "2022-04-29T16:52:05.791041Z",
     "iopub.status.idle": "2022-04-29T16:52:06.335040Z",
     "shell.execute_reply": "2022-04-29T16:52:06.334139Z"
    },
    "papermill": {
     "duration": 0.575554,
     "end_time": "2022-04-29T16:52:06.337023",
     "exception": false,
     "start_time": "2022-04-29T16:52:05.761469",
     "status": "completed"
    },
    "tags": []
   },
   "outputs": [
    {
     "data": {
      "text/html": [
       "<div>\n",
       "<style scoped>\n",
       "    .dataframe tbody tr th:only-of-type {\n",
       "        vertical-align: middle;\n",
       "    }\n",
       "\n",
       "    .dataframe tbody tr th {\n",
       "        vertical-align: top;\n",
       "    }\n",
       "\n",
       "    .dataframe thead th {\n",
       "        text-align: right;\n",
       "    }\n",
       "</style>\n",
       "<table border=\"1\" class=\"dataframe\">\n",
       "  <thead>\n",
       "    <tr style=\"text-align: right;\">\n",
       "      <th></th>\n",
       "      <th>date_block_num</th>\n",
       "      <th>shop_id</th>\n",
       "      <th>item_id</th>\n",
       "      <th>item_price</th>\n",
       "      <th>item_cnt_day</th>\n",
       "    </tr>\n",
       "    <tr>\n",
       "      <th>date</th>\n",
       "      <th></th>\n",
       "      <th></th>\n",
       "      <th></th>\n",
       "      <th></th>\n",
       "      <th></th>\n",
       "    </tr>\n",
       "  </thead>\n",
       "  <tbody>\n",
       "    <tr>\n",
       "      <th>2013-02-01</th>\n",
       "      <td>0</td>\n",
       "      <td>59</td>\n",
       "      <td>22154</td>\n",
       "      <td>999.00</td>\n",
       "      <td>1.0</td>\n",
       "    </tr>\n",
       "    <tr>\n",
       "      <th>2013-03-01</th>\n",
       "      <td>0</td>\n",
       "      <td>25</td>\n",
       "      <td>2552</td>\n",
       "      <td>899.00</td>\n",
       "      <td>1.0</td>\n",
       "    </tr>\n",
       "    <tr>\n",
       "      <th>2013-05-01</th>\n",
       "      <td>0</td>\n",
       "      <td>25</td>\n",
       "      <td>2552</td>\n",
       "      <td>899.00</td>\n",
       "      <td>-1.0</td>\n",
       "    </tr>\n",
       "    <tr>\n",
       "      <th>2013-06-01</th>\n",
       "      <td>0</td>\n",
       "      <td>25</td>\n",
       "      <td>2554</td>\n",
       "      <td>1709.05</td>\n",
       "      <td>1.0</td>\n",
       "    </tr>\n",
       "    <tr>\n",
       "      <th>2013-01-15</th>\n",
       "      <td>0</td>\n",
       "      <td>25</td>\n",
       "      <td>2555</td>\n",
       "      <td>1099.00</td>\n",
       "      <td>1.0</td>\n",
       "    </tr>\n",
       "  </tbody>\n",
       "</table>\n",
       "</div>"
      ],
      "text/plain": [
       "            date_block_num  shop_id  item_id  item_price  item_cnt_day\n",
       "date                                                                  \n",
       "2013-02-01               0       59    22154      999.00           1.0\n",
       "2013-03-01               0       25     2552      899.00           1.0\n",
       "2013-05-01               0       25     2552      899.00          -1.0\n",
       "2013-06-01               0       25     2554     1709.05           1.0\n",
       "2013-01-15               0       25     2555     1099.00           1.0"
      ]
     },
     "execution_count": 7,
     "metadata": {},
     "output_type": "execute_result"
    }
   ],
   "source": [
    "# set index to date format\n",
    "sales_train['date'] = pd.to_datetime(sales_train['date'])\n",
    "sales_train.set_index('date', inplace=True)\n",
    "sales_train.head()"
   ]
  },
  {
   "cell_type": "code",
   "execution_count": 8,
   "id": "dcec245e",
   "metadata": {
    "execution": {
     "iopub.execute_input": "2022-04-29T16:52:06.397204Z",
     "iopub.status.busy": "2022-04-29T16:52:06.396897Z",
     "iopub.status.idle": "2022-04-29T16:52:07.397927Z",
     "shell.execute_reply": "2022-04-29T16:52:07.396989Z"
    },
    "papermill": {
     "duration": 1.034228,
     "end_time": "2022-04-29T16:52:07.400221",
     "exception": false,
     "start_time": "2022-04-29T16:52:06.365993",
     "status": "completed"
    },
    "tags": []
   },
   "outputs": [],
   "source": [
    "# Merge data\n",
    "items_merged = pd.merge(items, item_cat, on='item_category_id')\n",
    "sales_train_merged = pd.merge(sales_train, shops, on='shop_id')\n",
    "sales_train_merged = pd.merge(sales_train_merged, items_merged, on='item_id')"
   ]
  },
  {
   "cell_type": "code",
   "execution_count": 9,
   "id": "725d2ca4",
   "metadata": {
    "execution": {
     "iopub.execute_input": "2022-04-29T16:52:07.460590Z",
     "iopub.status.busy": "2022-04-29T16:52:07.460331Z",
     "iopub.status.idle": "2022-04-29T16:52:07.471314Z",
     "shell.execute_reply": "2022-04-29T16:52:07.470386Z"
    },
    "papermill": {
     "duration": 0.044642,
     "end_time": "2022-04-29T16:52:07.473572",
     "exception": false,
     "start_time": "2022-04-29T16:52:07.428930",
     "status": "completed"
    },
    "tags": []
   },
   "outputs": [
    {
     "data": {
      "text/html": [
       "<div>\n",
       "<style scoped>\n",
       "    .dataframe tbody tr th:only-of-type {\n",
       "        vertical-align: middle;\n",
       "    }\n",
       "\n",
       "    .dataframe tbody tr th {\n",
       "        vertical-align: top;\n",
       "    }\n",
       "\n",
       "    .dataframe thead th {\n",
       "        text-align: right;\n",
       "    }\n",
       "</style>\n",
       "<table border=\"1\" class=\"dataframe\">\n",
       "  <thead>\n",
       "    <tr style=\"text-align: right;\">\n",
       "      <th></th>\n",
       "      <th>item_name</th>\n",
       "      <th>item_id</th>\n",
       "      <th>item_category_id</th>\n",
       "      <th>item_category_name</th>\n",
       "    </tr>\n",
       "  </thead>\n",
       "  <tbody>\n",
       "    <tr>\n",
       "      <th>0</th>\n",
       "      <td>! ВО ВЛАСТИ НАВАЖДЕНИЯ (ПЛАСТ.)         D</td>\n",
       "      <td>0</td>\n",
       "      <td>40</td>\n",
       "      <td>Кино - DVD</td>\n",
       "    </tr>\n",
       "    <tr>\n",
       "      <th>1</th>\n",
       "      <td>***В ЛУЧАХ СЛАВЫ   (UNV)                    D</td>\n",
       "      <td>2</td>\n",
       "      <td>40</td>\n",
       "      <td>Кино - DVD</td>\n",
       "    </tr>\n",
       "    <tr>\n",
       "      <th>2</th>\n",
       "      <td>***ГОЛУБАЯ ВОЛНА  (Univ)                      D</td>\n",
       "      <td>3</td>\n",
       "      <td>40</td>\n",
       "      <td>Кино - DVD</td>\n",
       "    </tr>\n",
       "    <tr>\n",
       "      <th>3</th>\n",
       "      <td>***КОРОБКА (СТЕКЛО)                       D</td>\n",
       "      <td>4</td>\n",
       "      <td>40</td>\n",
       "      <td>Кино - DVD</td>\n",
       "    </tr>\n",
       "    <tr>\n",
       "      <th>4</th>\n",
       "      <td>***НОВЫЕ АМЕРИКАНСКИЕ ГРАФФИТИ  (UNI)         ...</td>\n",
       "      <td>5</td>\n",
       "      <td>40</td>\n",
       "      <td>Кино - DVD</td>\n",
       "    </tr>\n",
       "  </tbody>\n",
       "</table>\n",
       "</div>"
      ],
      "text/plain": [
       "                                           item_name  item_id  \\\n",
       "0          ! ВО ВЛАСТИ НАВАЖДЕНИЯ (ПЛАСТ.)         D        0   \n",
       "1      ***В ЛУЧАХ СЛАВЫ   (UNV)                    D        2   \n",
       "2    ***ГОЛУБАЯ ВОЛНА  (Univ)                      D        3   \n",
       "3        ***КОРОБКА (СТЕКЛО)                       D        4   \n",
       "4  ***НОВЫЕ АМЕРИКАНСКИЕ ГРАФФИТИ  (UNI)         ...        5   \n",
       "\n",
       "   item_category_id item_category_name  \n",
       "0                40         Кино - DVD  \n",
       "1                40         Кино - DVD  \n",
       "2                40         Кино - DVD  \n",
       "3                40         Кино - DVD  \n",
       "4                40         Кино - DVD  "
      ]
     },
     "execution_count": 9,
     "metadata": {},
     "output_type": "execute_result"
    }
   ],
   "source": [
    "items_merged.head()"
   ]
  },
  {
   "cell_type": "code",
   "execution_count": 10,
   "id": "fde557b1",
   "metadata": {
    "execution": {
     "iopub.execute_input": "2022-04-29T16:52:07.537019Z",
     "iopub.status.busy": "2022-04-29T16:52:07.536705Z",
     "iopub.status.idle": "2022-04-29T16:52:07.551728Z",
     "shell.execute_reply": "2022-04-29T16:52:07.550814Z"
    },
    "papermill": {
     "duration": 0.049428,
     "end_time": "2022-04-29T16:52:07.553818",
     "exception": false,
     "start_time": "2022-04-29T16:52:07.504390",
     "status": "completed"
    },
    "tags": []
   },
   "outputs": [
    {
     "data": {
      "text/html": [
       "<div>\n",
       "<style scoped>\n",
       "    .dataframe tbody tr th:only-of-type {\n",
       "        vertical-align: middle;\n",
       "    }\n",
       "\n",
       "    .dataframe tbody tr th {\n",
       "        vertical-align: top;\n",
       "    }\n",
       "\n",
       "    .dataframe thead th {\n",
       "        text-align: right;\n",
       "    }\n",
       "</style>\n",
       "<table border=\"1\" class=\"dataframe\">\n",
       "  <thead>\n",
       "    <tr style=\"text-align: right;\">\n",
       "      <th></th>\n",
       "      <th>date_block_num</th>\n",
       "      <th>shop_id</th>\n",
       "      <th>item_id</th>\n",
       "      <th>item_price</th>\n",
       "      <th>item_cnt_day</th>\n",
       "      <th>shop_name</th>\n",
       "      <th>item_name</th>\n",
       "      <th>item_category_id</th>\n",
       "      <th>item_category_name</th>\n",
       "    </tr>\n",
       "  </thead>\n",
       "  <tbody>\n",
       "    <tr>\n",
       "      <th>0</th>\n",
       "      <td>0</td>\n",
       "      <td>59</td>\n",
       "      <td>22154</td>\n",
       "      <td>999.0</td>\n",
       "      <td>1.0</td>\n",
       "      <td>Ярославль ТЦ \"Альтаир\"</td>\n",
       "      <td>ЯВЛЕНИЕ 2012 (BD)</td>\n",
       "      <td>37</td>\n",
       "      <td>Кино - Blu-Ray</td>\n",
       "    </tr>\n",
       "    <tr>\n",
       "      <th>1</th>\n",
       "      <td>0</td>\n",
       "      <td>25</td>\n",
       "      <td>22154</td>\n",
       "      <td>999.0</td>\n",
       "      <td>1.0</td>\n",
       "      <td>Москва ТРК \"Атриум\"</td>\n",
       "      <td>ЯВЛЕНИЕ 2012 (BD)</td>\n",
       "      <td>37</td>\n",
       "      <td>Кино - Blu-Ray</td>\n",
       "    </tr>\n",
       "    <tr>\n",
       "      <th>2</th>\n",
       "      <td>0</td>\n",
       "      <td>25</td>\n",
       "      <td>22154</td>\n",
       "      <td>999.0</td>\n",
       "      <td>1.0</td>\n",
       "      <td>Москва ТРК \"Атриум\"</td>\n",
       "      <td>ЯВЛЕНИЕ 2012 (BD)</td>\n",
       "      <td>37</td>\n",
       "      <td>Кино - Blu-Ray</td>\n",
       "    </tr>\n",
       "    <tr>\n",
       "      <th>3</th>\n",
       "      <td>0</td>\n",
       "      <td>25</td>\n",
       "      <td>22154</td>\n",
       "      <td>999.0</td>\n",
       "      <td>1.0</td>\n",
       "      <td>Москва ТРК \"Атриум\"</td>\n",
       "      <td>ЯВЛЕНИЕ 2012 (BD)</td>\n",
       "      <td>37</td>\n",
       "      <td>Кино - Blu-Ray</td>\n",
       "    </tr>\n",
       "    <tr>\n",
       "      <th>4</th>\n",
       "      <td>0</td>\n",
       "      <td>25</td>\n",
       "      <td>22154</td>\n",
       "      <td>999.0</td>\n",
       "      <td>1.0</td>\n",
       "      <td>Москва ТРК \"Атриум\"</td>\n",
       "      <td>ЯВЛЕНИЕ 2012 (BD)</td>\n",
       "      <td>37</td>\n",
       "      <td>Кино - Blu-Ray</td>\n",
       "    </tr>\n",
       "  </tbody>\n",
       "</table>\n",
       "</div>"
      ],
      "text/plain": [
       "   date_block_num  shop_id  item_id  item_price  item_cnt_day  \\\n",
       "0               0       59    22154       999.0           1.0   \n",
       "1               0       25    22154       999.0           1.0   \n",
       "2               0       25    22154       999.0           1.0   \n",
       "3               0       25    22154       999.0           1.0   \n",
       "4               0       25    22154       999.0           1.0   \n",
       "\n",
       "                shop_name          item_name  item_category_id  \\\n",
       "0  Ярославль ТЦ \"Альтаир\"  ЯВЛЕНИЕ 2012 (BD)                37   \n",
       "1     Москва ТРК \"Атриум\"  ЯВЛЕНИЕ 2012 (BD)                37   \n",
       "2     Москва ТРК \"Атриум\"  ЯВЛЕНИЕ 2012 (BD)                37   \n",
       "3     Москва ТРК \"Атриум\"  ЯВЛЕНИЕ 2012 (BD)                37   \n",
       "4     Москва ТРК \"Атриум\"  ЯВЛЕНИЕ 2012 (BD)                37   \n",
       "\n",
       "  item_category_name  \n",
       "0     Кино - Blu-Ray  \n",
       "1     Кино - Blu-Ray  \n",
       "2     Кино - Blu-Ray  \n",
       "3     Кино - Blu-Ray  \n",
       "4     Кино - Blu-Ray  "
      ]
     },
     "execution_count": 10,
     "metadata": {},
     "output_type": "execute_result"
    }
   ],
   "source": [
    "sales_train_merged.head()"
   ]
  },
  {
   "cell_type": "markdown",
   "id": "768f3673",
   "metadata": {
    "papermill": {
     "duration": 0.031379,
     "end_time": "2022-04-29T16:52:07.617386",
     "exception": false,
     "start_time": "2022-04-29T16:52:07.586007",
     "status": "completed"
    },
    "tags": []
   },
   "source": [
    "## Check Null values\n",
    "Conclusion: No value is missing or null."
   ]
  },
  {
   "cell_type": "code",
   "execution_count": 11,
   "id": "cd57a113",
   "metadata": {
    "execution": {
     "iopub.execute_input": "2022-04-29T16:52:07.678722Z",
     "iopub.status.busy": "2022-04-29T16:52:07.678040Z",
     "iopub.status.idle": "2022-04-29T16:52:07.722493Z",
     "shell.execute_reply": "2022-04-29T16:52:07.721644Z"
    },
    "papermill": {
     "duration": 0.077395,
     "end_time": "2022-04-29T16:52:07.724600",
     "exception": false,
     "start_time": "2022-04-29T16:52:07.647205",
     "status": "completed"
    },
    "tags": []
   },
   "outputs": [
    {
     "name": "stdout",
     "output_type": "stream",
     "text": [
      "date_block_num    0.0\n",
      "shop_id           0.0\n",
      "item_id           0.0\n",
      "item_price        0.0\n",
      "item_cnt_day      0.0\n",
      "dtype: float64\n",
      "\n",
      "item_name           0.0\n",
      "item_id             0.0\n",
      "item_category_id    0.0\n",
      "dtype: float64\n",
      "\n",
      "item_category_name    0.0\n",
      "item_category_id      0.0\n",
      "dtype: float64\n",
      "\n",
      "item_category_name    0.0\n",
      "item_category_id      0.0\n",
      "dtype: float64\n",
      "\n",
      "shop_name    0.0\n",
      "shop_id      0.0\n",
      "dtype: float64\n"
     ]
    }
   ],
   "source": [
    "print(sales_train.isnull().mean())\n",
    "print()\n",
    "print(items.isnull().mean())\n",
    "print()\n",
    "print(item_cat.isnull().mean())\n",
    "print()\n",
    "print(item_cat.isnull().mean())\n",
    "print()\n",
    "print(shops.isnull().mean())"
   ]
  },
  {
   "cell_type": "markdown",
   "id": "3c343e71",
   "metadata": {
    "papermill": {
     "duration": 0.030062,
     "end_time": "2022-04-29T16:52:07.784944",
     "exception": false,
     "start_time": "2022-04-29T16:52:07.754882",
     "status": "completed"
    },
    "tags": []
   },
   "source": [
    "## Let's see at how many different values we are dealing with\n",
    "Conclusions:\n",
    "1. There is no redundant item/item_category/shop id\n",
    "1. There is no redundant item/item_category/shop name"
   ]
  },
  {
   "cell_type": "code",
   "execution_count": 12,
   "id": "b8381f65",
   "metadata": {
    "execution": {
     "iopub.execute_input": "2022-04-29T16:52:07.847584Z",
     "iopub.status.busy": "2022-04-29T16:52:07.847323Z",
     "iopub.status.idle": "2022-04-29T16:52:07.870328Z",
     "shell.execute_reply": "2022-04-29T16:52:07.869313Z"
    },
    "papermill": {
     "duration": 0.057097,
     "end_time": "2022-04-29T16:52:07.872324",
     "exception": false,
     "start_time": "2022-04-29T16:52:07.815227",
     "status": "completed"
    },
    "tags": []
   },
   "outputs": [
    {
     "name": "stdout",
     "output_type": "stream",
     "text": [
      "True\n",
      "True\n",
      "True\n",
      "True\n",
      "True\n"
     ]
    }
   ],
   "source": [
    "print(items['item_id'].unique().size == items.shape[0])\n",
    "print(items['item_name'].unique().size == items.shape[0])\n",
    "print(item_cat['item_category_id'].unique().size == item_cat.shape[0])\n",
    "print(item_cat['item_category_name'].unique().size == item_cat.shape[0])\n",
    "print(shops['shop_id'].unique().size == shops.shape[0])"
   ]
  },
  {
   "cell_type": "markdown",
   "id": "55da57c2",
   "metadata": {
    "papermill": {
     "duration": 0.03042,
     "end_time": "2022-04-29T16:52:07.933267",
     "exception": false,
     "start_time": "2022-04-29T16:52:07.902847",
     "status": "completed"
    },
    "tags": []
   },
   "source": [
    "# Some high level analysis"
   ]
  },
  {
   "cell_type": "code",
   "execution_count": 13,
   "id": "5afa9d3d",
   "metadata": {
    "execution": {
     "iopub.execute_input": "2022-04-29T16:52:07.996783Z",
     "iopub.status.busy": "2022-04-29T16:52:07.995814Z",
     "iopub.status.idle": "2022-04-29T16:52:08.001558Z",
     "shell.execute_reply": "2022-04-29T16:52:08.000398Z"
    },
    "papermill": {
     "duration": 0.039935,
     "end_time": "2022-04-29T16:52:08.003690",
     "exception": false,
     "start_time": "2022-04-29T16:52:07.963755",
     "status": "completed"
    },
    "tags": []
   },
   "outputs": [
    {
     "name": "stdout",
     "output_type": "stream",
     "text": [
      "Average of # of times an item is sold : 132.42\n"
     ]
    }
   ],
   "source": [
    "# Average # of times an item is sold\n",
    "print('Average of # of times an item is sold : {:.2f}'.format(sales_train.shape[0] / items.shape[0]))"
   ]
  },
  {
   "cell_type": "markdown",
   "id": "2aead236",
   "metadata": {
    "papermill": {
     "duration": 0.030512,
     "end_time": "2022-04-29T16:52:08.065099",
     "exception": false,
     "start_time": "2022-04-29T16:52:08.034587",
     "status": "completed"
    },
    "tags": []
   },
   "source": [
    "Let's visualize the numer of sales per month for a given item."
   ]
  },
  {
   "cell_type": "code",
   "execution_count": 14,
   "id": "79058764",
   "metadata": {
    "execution": {
     "iopub.execute_input": "2022-04-29T16:52:08.127701Z",
     "iopub.status.busy": "2022-04-29T16:52:08.127389Z",
     "iopub.status.idle": "2022-04-29T16:52:08.132887Z",
     "shell.execute_reply": "2022-04-29T16:52:08.131951Z"
    },
    "papermill": {
     "duration": 0.039291,
     "end_time": "2022-04-29T16:52:08.134979",
     "exception": false,
     "start_time": "2022-04-29T16:52:08.095688",
     "status": "completed"
    },
    "tags": []
   },
   "outputs": [],
   "source": [
    "def visualize_monthly_cnt(item_id):\n",
    "    filtered_df = sales_train[sales_train['item_id'] == item_id].copy()\n",
    "    filtered_df['item_cnt_day'].resample('M').agg(['sum']).plot(color='blue',ls='-', legend=False, ylabel='montly cnt of item {}'.format(item_id))"
   ]
  },
  {
   "cell_type": "code",
   "execution_count": 15,
   "id": "12a8dc16",
   "metadata": {
    "execution": {
     "iopub.execute_input": "2022-04-29T16:52:08.197713Z",
     "iopub.status.busy": "2022-04-29T16:52:08.197423Z",
     "iopub.status.idle": "2022-04-29T16:52:08.520880Z",
     "shell.execute_reply": "2022-04-29T16:52:08.520238Z"
    },
    "papermill": {
     "duration": 0.357012,
     "end_time": "2022-04-29T16:52:08.522681",
     "exception": false,
     "start_time": "2022-04-29T16:52:08.165669",
     "status": "completed"
    },
    "tags": []
   },
   "outputs": [
    {
     "data": {
      "image/png": "[encoded data removed]",
      "text/plain": [
       "<Figure size 432x288 with 1 Axes>"
      ]
     },
     "metadata": {
      "needs_background": "light"
     },
     "output_type": "display_data"
    }
   ],
   "source": [
    "visualize_monthly_cnt(4561)"
   ]
  },
  {
   "cell_type": "markdown",
   "id": "391e3e95",
   "metadata": {
    "papermill": {
     "duration": 0.031777,
     "end_time": "2022-04-29T16:52:08.586677",
     "exception": false,
     "start_time": "2022-04-29T16:52:08.554900",
     "status": "completed"
    },
    "tags": []
   },
   "source": [
    "Now let's look at the total number of sales per month (meaning for all items)."
   ]
  },
  {
   "cell_type": "code",
   "execution_count": 16,
   "id": "f60dbd8a",
   "metadata": {
    "execution": {
     "iopub.execute_input": "2022-04-29T16:52:08.653302Z",
     "iopub.status.busy": "2022-04-29T16:52:08.653027Z",
     "iopub.status.idle": "2022-04-29T16:52:09.796492Z",
     "shell.execute_reply": "2022-04-29T16:52:09.795742Z"
    },
    "papermill": {
     "duration": 1.179581,
     "end_time": "2022-04-29T16:52:09.798597",
     "exception": false,
     "start_time": "2022-04-29T16:52:08.619016",
     "status": "completed"
    },
    "tags": []
   },
   "outputs": [
    {
     "data": {
      "text/plain": [
       "<AxesSubplot:xlabel='date', ylabel='# of sales per month'>"
      ]
     },
     "execution_count": 16,
     "metadata": {},
     "output_type": "execute_result"
    },
    {
     "data": {
      "image/png": "[encoded data removed]",
      "text/plain": [
       "<Figure size 432x288 with 1 Axes>"
      ]
     },
     "metadata": {
      "needs_background": "light"
     },
     "output_type": "display_data"
    }
   ],
   "source": [
    "sales_train['item_cnt_day'].resample('M').agg(['sum']).plot(color='blue',ls='-', legend=False, ylabel='# of sales per month')"
   ]
  },
  {
   "cell_type": "markdown",
   "id": "f355fbd6",
   "metadata": {
    "papermill": {
     "duration": 0.033428,
     "end_time": "2022-04-29T16:52:09.865733",
     "exception": false,
     "start_time": "2022-04-29T16:52:09.832305",
     "status": "completed"
    },
    "tags": []
   },
   "source": [
    "Now we look at some repartitions:\n",
    "* repartition of the item_price\n",
    "* and repartition of the item_cnt_dat <br>\n",
    "\n",
    "Conclusion: some values are very extreme compared to the rest of the data. Because such data is not representive of the rest they will wrongly affect our predictions. We should filter them out."
   ]
  },
  {
   "cell_type": "code",
   "execution_count": 17,
   "id": "c5bff45c",
   "metadata": {
    "execution": {
     "iopub.execute_input": "2022-04-29T16:52:09.934962Z",
     "iopub.status.busy": "2022-04-29T16:52:09.934395Z",
     "iopub.status.idle": "2022-04-29T16:52:11.439208Z",
     "shell.execute_reply": "2022-04-29T16:52:11.437844Z"
    },
    "papermill": {
     "duration": 1.542153,
     "end_time": "2022-04-29T16:52:11.441530",
     "exception": false,
     "start_time": "2022-04-29T16:52:09.899377",
     "status": "completed"
    },
    "tags": []
   },
   "outputs": [
    {
     "data": {
      "image/png": "[encoded data removed]",
      "text/plain": [
       "<Figure size 1080x720 with 2 Axes>"
      ]
     },
     "metadata": {
      "needs_background": "light"
     },
     "output_type": "display_data"
    }
   ],
   "source": [
    "figure2=plt.figure(2,figsize=(15,10))\n",
    "\n",
    "plt.subplot(3,1,1)\n",
    "plt.title(\"item price\",size=15)\n",
    "sns.boxplot(data=sales_train,x=\"item_price\")\n",
    "plt.subplot(3,1,2)\n",
    "plt.title(\"item count day\",size=15)\n",
    "sns.boxplot(data=sales_train,x=\"item_cnt_day\")\n",
    "\n",
    "figure2.tight_layout(pad=3.0)\n",
    "\n",
    "plt.show()"
   ]
  },
  {
   "cell_type": "markdown",
   "id": "8592e47c",
   "metadata": {
    "papermill": {
     "duration": 0.034101,
     "end_time": "2022-04-29T16:52:11.511806",
     "exception": false,
     "start_time": "2022-04-29T16:52:11.477705",
     "status": "completed"
    },
    "tags": []
   },
   "source": [
    "To do:\n",
    "* detect and remove outliers\n",
    "* look at top shop and items\n",
    "* look at trends and seasonality: total and per shops and categories\n",
    "* use what you learned in the Time Series Forecasting course"
   ]
  },
  {
   "cell_type": "markdown",
   "id": "49bfb8f7",
   "metadata": {
    "papermill": {
     "duration": 0.035014,
     "end_time": "2022-04-29T16:52:11.581763",
     "exception": false,
     "start_time": "2022-04-29T16:52:11.546749",
     "status": "completed"
    },
    "tags": []
   },
   "source": [
    "# Detect and remove outliers"
   ]
  },
  {
   "cell_type": "markdown",
   "id": "0ff956db",
   "metadata": {
    "papermill": {
     "duration": 0.03408,
     "end_time": "2022-04-29T16:52:11.650897",
     "exception": false,
     "start_time": "2022-04-29T16:52:11.616817",
     "status": "completed"
    },
    "tags": []
   },
   "source": [
    "# Time Series Analys (TSA)"
   ]
  },
  {
   "cell_type": "code",
   "execution_count": 18,
   "id": "45df3649",
   "metadata": {
    "execution": {
     "iopub.execute_input": "2022-04-29T16:52:11.721479Z",
     "iopub.status.busy": "2022-04-29T16:52:11.721193Z",
     "iopub.status.idle": "2022-04-29T16:52:12.209993Z",
     "shell.execute_reply": "2022-04-29T16:52:12.208974Z"
    },
    "papermill": {
     "duration": 0.526927,
     "end_time": "2022-04-29T16:52:12.212359",
     "exception": false,
     "start_time": "2022-04-29T16:52:11.685432",
     "status": "completed"
    },
    "tags": []
   },
   "outputs": [
    {
     "data": {
      "text/plain": [
       "<AxesSubplot:xlabel='item_category_name'>"
      ]
     },
     "execution_count": 18,
     "metadata": {},
     "output_type": "execute_result"
    },
    {
     "data": {
      "image/png": "[encoded data removed]",
      "text/plain": [
       "<Figure size 432x288 with 1 Axes>"
      ]
     },
     "metadata": {
      "needs_background": "light"
     },
     "output_type": "display_data"
    }
   ],
   "source": [
    "sales_train_merged.groupby('item_category_name')['item_cnt_day'].sum().sort_values(ascending=False)[0:10].plot()"
   ]
  }
 ],
 "metadata": {
  "kernelspec": {
   "display_name": "Python 3",
   "language": "python",
   "name": "python3"
  },
  "language_info": {
   "codemirror_mode": {
    "name": "ipython",
    "version": 3
   },
   "file_extension": ".py",
   "mimetype": "text/x-python",
   "name": "python",
   "nbconvert_exporter": "python",
   "pygments_lexer": "ipython3",
   "version": "3.7.12"
  },
  "papermill": {
   "default_parameters": {},
   "duration": 22.319007,
   "end_time": "2022-04-29T16:52:13.073724",
   "environment_variables": {},
   "exception": null,
   "input_path": "__notebook__.ipynb",
   "output_path": "__notebook__.ipynb",
   "parameters": {},
   "start_time": "2022-04-29T16:51:50.754717",
   "version": "2.3.4"
  }
 },
 "nbformat": 4,
 "nbformat_minor": 5
}

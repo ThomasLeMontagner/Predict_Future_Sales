{
 "cells": [
  {
   "cell_type": "code",
   "execution_count": 1,
   "id": "4f7b2450",
   "metadata": {
    "_cell_guid": "b1076dfc-b9ad-4769-8c92-a6c4dae69d19",
    "_uuid": "8f2839f25d086af736a60e9eeb907d3b93b6e0e5",
    "execution": {
     "iopub.execute_input": "2022-04-27T16:45:54.628921Z",
     "iopub.status.busy": "2022-04-27T16:45:54.628530Z",
     "iopub.status.idle": "2022-04-27T16:45:54.643763Z",
     "shell.execute_reply": "2022-04-27T16:45:54.642765Z"
    },
    "papermill": {
     "duration": 0.043477,
     "end_time": "2022-04-27T16:45:54.646028",
     "exception": false,
     "start_time": "2022-04-27T16:45:54.602551",
     "status": "completed"
    },
    "tags": []
   },
   "outputs": [
    {
     "name": "stdout",
     "output_type": "stream",
     "text": [
      "/kaggle/input/competitive-data-science-predict-future-sales/items.csv\n",
      "/kaggle/input/competitive-data-science-predict-future-sales/sample_submission.csv\n",
      "/kaggle/input/competitive-data-science-predict-future-sales/item_categories.csv\n",
      "/kaggle/input/competitive-data-science-predict-future-sales/sales_train.csv\n",
      "/kaggle/input/competitive-data-science-predict-future-sales/shops.csv\n",
      "/kaggle/input/competitive-data-science-predict-future-sales/test.csv\n"
     ]
    }
   ],
   "source": [
    "# This Python 3 environment comes with many helpful analytics libraries installed\n",
    "# It is defined by the kaggle/python Docker image: https://github.com/kaggle/docker-python\n",
    "# For example, here's several helpful packages to load\n",
    "\n",
    "import numpy as np # linear algebra\n",
    "import pandas as pd # data processing, CSV file I/O (e.g. pd.read_csv)\n",
    "\n",
    "# Input data files are available in the read-only \"../input/\" directory\n",
    "# For example, running this (by clicking run or pressing Shift+Enter) will list all files under the input directory\n",
    "\n",
    "import os\n",
    "for dirname, _, filenames in os.walk('/kaggle/input'):\n",
    "    for filename in filenames:\n",
    "        print(os.path.join(dirname, filename))\n",
    "\n",
    "# You can write up to 20GB to the current directory (/kaggle/working/) that gets preserved as output when you create a version using \"Save & Run All\" \n",
    "# You can also write temporary files to /kaggle/temp/, but they won't be saved outside of the current session"
   ]
  },
  {
   "cell_type": "code",
   "execution_count": 2,
   "id": "6a1ca8c5",
   "metadata": {
    "execution": {
     "iopub.execute_input": "2022-04-27T16:45:54.694974Z",
     "iopub.status.busy": "2022-04-27T16:45:54.694703Z",
     "iopub.status.idle": "2022-04-27T16:45:54.698369Z",
     "shell.execute_reply": "2022-04-27T16:45:54.697515Z"
    },
    "papermill": {
     "duration": 0.03038,
     "end_time": "2022-04-27T16:45:54.700618",
     "exception": false,
     "start_time": "2022-04-27T16:45:54.670238",
     "status": "completed"
    },
    "tags": []
   },
   "outputs": [],
   "source": [
    "# Imports...\n",
    "import matplotlib.pyplot as plt"
   ]
  },
  {
   "cell_type": "code",
   "execution_count": 3,
   "id": "a97922cc",
   "metadata": {
    "execution": {
     "iopub.execute_input": "2022-04-27T16:45:54.750732Z",
     "iopub.status.busy": "2022-04-27T16:45:54.750444Z",
     "iopub.status.idle": "2022-04-27T16:45:57.600723Z",
     "shell.execute_reply": "2022-04-27T16:45:57.599500Z"
    },
    "papermill": {
     "duration": 2.878178,
     "end_time": "2022-04-27T16:45:57.603269",
     "exception": false,
     "start_time": "2022-04-27T16:45:54.725091",
     "status": "completed"
    },
    "tags": []
   },
   "outputs": [],
   "source": [
    "# get all data\n",
    "sales_train = pd.read_csv(\"../input/competitive-data-science-predict-future-sales/sales_train.csv\")\n",
    "items = pd.read_csv(\"../input/competitive-data-science-predict-future-sales/items.csv\")\n",
    "item_cat = pd.read_csv(\"../input/competitive-data-science-predict-future-sales/item_categories.csv\")\n",
    "shops = pd.read_csv(\"../input/competitive-data-science-predict-future-sales/shops.csv\")"
   ]
  },
  {
   "cell_type": "markdown",
   "id": "380c032c",
   "metadata": {
    "papermill": {
     "duration": 0.023291,
     "end_time": "2022-04-27T16:45:57.650104",
     "exception": false,
     "start_time": "2022-04-27T16:45:57.626813",
     "status": "completed"
    },
    "tags": []
   },
   "source": [
    "# Introduction"
   ]
  },
  {
   "cell_type": "markdown",
   "id": "c16038cb",
   "metadata": {
    "papermill": {
     "duration": 0.023036,
     "end_time": "2022-04-27T16:45:57.696631",
     "exception": false,
     "start_time": "2022-04-27T16:45:57.673595",
     "status": "completed"
    },
    "tags": []
   },
   "source": [
    "Given the following data :\n",
    "* sales_train.csv\n",
    "* test.csv\n",
    "* sample_submission.csv\n",
    "* items.csv\n",
    "* item_categories.csv\n",
    "* shops.csv <br>\n",
    "\n",
    "**The task is to forecast the total amount of products sold in every shop for the test set. Note that the list of shops and products slightly changes every month. Creating a robust model that can handle such situations is part of the challenge.**\n",
    "\n",
    "Data fields\n",
    "* **ID** - an Id that represents a (Shop, Item) tuple within the test set\n",
    "* **shop_id** - unique identifier of a shop\n",
    "* **item_id** - unique identifier of a product\n",
    "* **item_category_id** - unique identifier of item category\n",
    "* **item_cnt_day** - number of products sold. You are predicting a monthly amount of this measure\n",
    "* **item_price** - current price of an item\n",
    "* **date** - date in format dd/mm/yyyy\n",
    "* **date_block_num** - a consecutive month number, used for convenience. January 2013 is 0, February 2013 is 1,..., October 2015 is 33\n",
    "* **item_name** - name of item\n",
    "* **shop_name** - name of shop\n",
    "* **item_category_name** - name of item category"
   ]
  },
  {
   "cell_type": "markdown",
   "id": "c1a21881",
   "metadata": {
    "papermill": {
     "duration": 0.022896,
     "end_time": "2022-04-27T16:45:57.743192",
     "exception": false,
     "start_time": "2022-04-27T16:45:57.720296",
     "status": "completed"
    },
    "tags": []
   },
   "source": [
    "# Overview of data\n",
    "## Sales train"
   ]
  },
  {
   "cell_type": "code",
   "execution_count": 4,
   "id": "0b1e3a71",
   "metadata": {
    "execution": {
     "iopub.execute_input": "2022-04-27T16:45:57.791620Z",
     "iopub.status.busy": "2022-04-27T16:45:57.791267Z",
     "iopub.status.idle": "2022-04-27T16:45:57.820476Z",
     "shell.execute_reply": "2022-04-27T16:45:57.819383Z"
    },
    "papermill": {
     "duration": 0.057483,
     "end_time": "2022-04-27T16:45:57.824077",
     "exception": false,
     "start_time": "2022-04-27T16:45:57.766594",
     "status": "completed"
    },
    "tags": []
   },
   "outputs": [
    {
     "name": "stdout",
     "output_type": "stream",
     "text": [
      "         date  date_block_num  shop_id  item_id  item_price  item_cnt_day\n",
      "0  02.01.2013               0       59    22154      999.00           1.0\n",
      "1  03.01.2013               0       25     2552      899.00           1.0\n",
      "2  05.01.2013               0       25     2552      899.00          -1.0\n",
      "3  06.01.2013               0       25     2554     1709.05           1.0\n",
      "4  15.01.2013               0       25     2555     1099.00           1.0\n",
      "5  10.01.2013               0       25     2564      349.00           1.0\n",
      "6  02.01.2013               0       25     2565      549.00           1.0\n",
      "7  04.01.2013               0       25     2572      239.00           1.0\n",
      "8  11.01.2013               0       25     2572      299.00           1.0\n",
      "9  03.01.2013               0       25     2573      299.00           3.0\n",
      "\n",
      "<class 'pandas.core.frame.DataFrame'>\n",
      "RangeIndex: 2935849 entries, 0 to 2935848\n",
      "Data columns (total 6 columns):\n",
      " #   Column          Dtype  \n",
      "---  ------          -----  \n",
      " 0   date            object \n",
      " 1   date_block_num  int64  \n",
      " 2   shop_id         int64  \n",
      " 3   item_id         int64  \n",
      " 4   item_price      float64\n",
      " 5   item_cnt_day    float64\n",
      "dtypes: float64(2), int64(3), object(1)\n",
      "memory usage: 134.4+ MB\n",
      "None\n"
     ]
    }
   ],
   "source": [
    "print(sales_train.head(10))\n",
    "print()\n",
    "print(sales_train.info())"
   ]
  },
  {
   "cell_type": "markdown",
   "id": "ba3607a3",
   "metadata": {
    "papermill": {
     "duration": 0.023607,
     "end_time": "2022-04-27T16:45:57.872881",
     "exception": false,
     "start_time": "2022-04-27T16:45:57.849274",
     "status": "completed"
    },
    "tags": []
   },
   "source": [
    "## Items"
   ]
  },
  {
   "cell_type": "code",
   "execution_count": 5,
   "id": "2f74b752",
   "metadata": {
    "execution": {
     "iopub.execute_input": "2022-04-27T16:45:57.923449Z",
     "iopub.status.busy": "2022-04-27T16:45:57.923154Z",
     "iopub.status.idle": "2022-04-27T16:45:57.931473Z",
     "shell.execute_reply": "2022-04-27T16:45:57.930851Z"
    },
    "papermill": {
     "duration": 0.036003,
     "end_time": "2022-04-27T16:45:57.934415",
     "exception": false,
     "start_time": "2022-04-27T16:45:57.898412",
     "status": "completed"
    },
    "tags": []
   },
   "outputs": [
    {
     "name": "stdout",
     "output_type": "stream",
     "text": [
      "                                           item_name  item_id  \\\n",
      "0          ! ВО ВЛАСТИ НАВАЖДЕНИЯ (ПЛАСТ.)         D        0   \n",
      "1  !ABBYY FineReader 12 Professional Edition Full...        1   \n",
      "2      ***В ЛУЧАХ СЛАВЫ   (UNV)                    D        2   \n",
      "3    ***ГОЛУБАЯ ВОЛНА  (Univ)                      D        3   \n",
      "4        ***КОРОБКА (СТЕКЛО)                       D        4   \n",
      "\n",
      "   item_category_id  \n",
      "0                40  \n",
      "1                76  \n",
      "2                40  \n",
      "3                40  \n",
      "4                40  \n",
      "\n",
      "                                           item_name  item_id  \\\n",
      "0          ! ВО ВЛАСТИ НАВАЖДЕНИЯ (ПЛАСТ.)         D        0   \n",
      "1  !ABBYY FineReader 12 Professional Edition Full...        1   \n",
      "2      ***В ЛУЧАХ СЛАВЫ   (UNV)                    D        2   \n",
      "3    ***ГОЛУБАЯ ВОЛНА  (Univ)                      D        3   \n",
      "4        ***КОРОБКА (СТЕКЛО)                       D        4   \n",
      "\n",
      "   item_category_id  \n",
      "0                40  \n",
      "1                76  \n",
      "2                40  \n",
      "3                40  \n",
      "4                40  \n"
     ]
    }
   ],
   "source": [
    "print(items.head())\n",
    "print()\n",
    "print(items.head())"
   ]
  },
  {
   "cell_type": "markdown",
   "id": "60ebb6b2",
   "metadata": {
    "papermill": {
     "duration": 0.024056,
     "end_time": "2022-04-27T16:45:57.982863",
     "exception": false,
     "start_time": "2022-04-27T16:45:57.958807",
     "status": "completed"
    },
    "tags": []
   },
   "source": [
    "## Item Categories"
   ]
  },
  {
   "cell_type": "code",
   "execution_count": 6,
   "id": "3e531784",
   "metadata": {
    "execution": {
     "iopub.execute_input": "2022-04-27T16:45:58.034168Z",
     "iopub.status.busy": "2022-04-27T16:45:58.033383Z",
     "iopub.status.idle": "2022-04-27T16:45:58.046740Z",
     "shell.execute_reply": "2022-04-27T16:45:58.045660Z"
    },
    "papermill": {
     "duration": 0.041786,
     "end_time": "2022-04-27T16:45:58.049411",
     "exception": false,
     "start_time": "2022-04-27T16:45:58.007625",
     "status": "completed"
    },
    "tags": []
   },
   "outputs": [
    {
     "name": "stdout",
     "output_type": "stream",
     "text": [
      "        item_category_name  item_category_id\n",
      "0  PC - Гарнитуры/Наушники                 0\n",
      "1         Аксессуары - PS2                 1\n",
      "2         Аксессуары - PS3                 2\n",
      "3         Аксессуары - PS4                 3\n",
      "4         Аксессуары - PSP                 4\n",
      "\n",
      "<class 'pandas.core.frame.DataFrame'>\n",
      "RangeIndex: 84 entries, 0 to 83\n",
      "Data columns (total 2 columns):\n",
      " #   Column              Non-Null Count  Dtype \n",
      "---  ------              --------------  ----- \n",
      " 0   item_category_name  84 non-null     object\n",
      " 1   item_category_id    84 non-null     int64 \n",
      "dtypes: int64(1), object(1)\n",
      "memory usage: 1.4+ KB\n",
      "None\n"
     ]
    }
   ],
   "source": [
    "print(item_cat.head())\n",
    "print()\n",
    "print(item_cat.info())"
   ]
  },
  {
   "cell_type": "markdown",
   "id": "2637e72d",
   "metadata": {
    "papermill": {
     "duration": 0.02395,
     "end_time": "2022-04-27T16:45:58.098520",
     "exception": false,
     "start_time": "2022-04-27T16:45:58.074570",
     "status": "completed"
    },
    "tags": []
   },
   "source": [
    "## Shops"
   ]
  },
  {
   "cell_type": "code",
   "execution_count": 7,
   "id": "b6d2a218",
   "metadata": {
    "execution": {
     "iopub.execute_input": "2022-04-27T16:45:58.150045Z",
     "iopub.status.busy": "2022-04-27T16:45:58.149306Z",
     "iopub.status.idle": "2022-04-27T16:45:58.163160Z",
     "shell.execute_reply": "2022-04-27T16:45:58.162485Z"
    },
    "papermill": {
     "duration": 0.043168,
     "end_time": "2022-04-27T16:45:58.165911",
     "exception": false,
     "start_time": "2022-04-27T16:45:58.122743",
     "status": "completed"
    },
    "tags": []
   },
   "outputs": [
    {
     "name": "stdout",
     "output_type": "stream",
     "text": [
      "                        shop_name  shop_id\n",
      "0   !Якутск Орджоникидзе, 56 фран        0\n",
      "1   !Якутск ТЦ \"Центральный\" фран        1\n",
      "2                Адыгея ТЦ \"Мега\"        2\n",
      "3  Балашиха ТРК \"Октябрь-Киномир\"        3\n",
      "4        Волжский ТЦ \"Волга Молл\"        4\n",
      "\n",
      "<class 'pandas.core.frame.DataFrame'>\n",
      "RangeIndex: 60 entries, 0 to 59\n",
      "Data columns (total 2 columns):\n",
      " #   Column     Non-Null Count  Dtype \n",
      "---  ------     --------------  ----- \n",
      " 0   shop_name  60 non-null     object\n",
      " 1   shop_id    60 non-null     int64 \n",
      "dtypes: int64(1), object(1)\n",
      "memory usage: 1.1+ KB\n",
      "None\n"
     ]
    }
   ],
   "source": [
    "print(shops.head())\n",
    "print()\n",
    "print(shops.info())"
   ]
  },
  {
   "cell_type": "markdown",
   "id": "68d0f422",
   "metadata": {
    "papermill": {
     "duration": 0.024253,
     "end_time": "2022-04-27T16:45:58.214880",
     "exception": false,
     "start_time": "2022-04-27T16:45:58.190627",
     "status": "completed"
    },
    "tags": []
   },
   "source": [
    "## Check Null values\n",
    "Conclusion: No value is missing or null."
   ]
  },
  {
   "cell_type": "code",
   "execution_count": 8,
   "id": "720789a4",
   "metadata": {
    "execution": {
     "iopub.execute_input": "2022-04-27T16:45:58.266173Z",
     "iopub.status.busy": "2022-04-27T16:45:58.265636Z",
     "iopub.status.idle": "2022-04-27T16:45:58.627842Z",
     "shell.execute_reply": "2022-04-27T16:45:58.626760Z"
    },
    "papermill": {
     "duration": 0.391254,
     "end_time": "2022-04-27T16:45:58.630771",
     "exception": false,
     "start_time": "2022-04-27T16:45:58.239517",
     "status": "completed"
    },
    "tags": []
   },
   "outputs": [
    {
     "name": "stdout",
     "output_type": "stream",
     "text": [
      "date              0.0\n",
      "date_block_num    0.0\n",
      "shop_id           0.0\n",
      "item_id           0.0\n",
      "item_price        0.0\n",
      "item_cnt_day      0.0\n",
      "dtype: float64\n",
      "\n",
      "item_name           0.0\n",
      "item_id             0.0\n",
      "item_category_id    0.0\n",
      "dtype: float64\n",
      "\n",
      "item_category_name    0.0\n",
      "item_category_id      0.0\n",
      "dtype: float64\n",
      "\n",
      "item_category_name    0.0\n",
      "item_category_id      0.0\n",
      "dtype: float64\n",
      "\n",
      "shop_name    0.0\n",
      "shop_id      0.0\n",
      "dtype: float64\n"
     ]
    }
   ],
   "source": [
    "print(sales_train.isnull().mean())\n",
    "print()\n",
    "print(items.isnull().mean())\n",
    "print()\n",
    "print(item_cat.isnull().mean())\n",
    "print()\n",
    "print(item_cat.isnull().mean())\n",
    "print()\n",
    "print(shops.isnull().mean())"
   ]
  },
  {
   "cell_type": "markdown",
   "id": "2dfbfe40",
   "metadata": {
    "papermill": {
     "duration": 0.024864,
     "end_time": "2022-04-27T16:45:58.682641",
     "exception": false,
     "start_time": "2022-04-27T16:45:58.657777",
     "status": "completed"
    },
    "tags": []
   },
   "source": [
    "## Let's see at how many different values we are dealing with\n",
    "Conclusions:\n",
    "1. There is no redundant item/item_category/shop id\n",
    "1. There is no redundant item/item_category/shop name"
   ]
  },
  {
   "cell_type": "code",
   "execution_count": 9,
   "id": "3298e928",
   "metadata": {
    "execution": {
     "iopub.execute_input": "2022-04-27T16:45:58.734403Z",
     "iopub.status.busy": "2022-04-27T16:45:58.734105Z",
     "iopub.status.idle": "2022-04-27T16:45:58.756499Z",
     "shell.execute_reply": "2022-04-27T16:45:58.755615Z"
    },
    "papermill": {
     "duration": 0.050962,
     "end_time": "2022-04-27T16:45:58.758569",
     "exception": false,
     "start_time": "2022-04-27T16:45:58.707607",
     "status": "completed"
    },
    "tags": []
   },
   "outputs": [
    {
     "name": "stdout",
     "output_type": "stream",
     "text": [
      "True\n",
      "True\n",
      "True\n",
      "True\n",
      "True\n"
     ]
    }
   ],
   "source": [
    "print(items['item_id'].unique().size == items.shape[0])\n",
    "print(items['item_name'].unique().size == items.shape[0])\n",
    "print(item_cat['item_category_id'].unique().size == item_cat.shape[0])\n",
    "print(item_cat['item_category_name'].unique().size == item_cat.shape[0])\n",
    "print(shops['shop_id'].unique().size == shops.shape[0])"
   ]
  },
  {
   "cell_type": "markdown",
   "id": "49f5ee16",
   "metadata": {
    "papermill": {
     "duration": 0.025372,
     "end_time": "2022-04-27T16:45:58.809344",
     "exception": false,
     "start_time": "2022-04-27T16:45:58.783972",
     "status": "completed"
    },
    "tags": []
   },
   "source": [
    "## Some high level analysis"
   ]
  },
  {
   "cell_type": "code",
   "execution_count": 10,
   "id": "1ab561c6",
   "metadata": {
    "execution": {
     "iopub.execute_input": "2022-04-27T16:45:58.862261Z",
     "iopub.status.busy": "2022-04-27T16:45:58.861686Z",
     "iopub.status.idle": "2022-04-27T16:45:58.867299Z",
     "shell.execute_reply": "2022-04-27T16:45:58.866390Z"
    },
    "papermill": {
     "duration": 0.034845,
     "end_time": "2022-04-27T16:45:58.869755",
     "exception": false,
     "start_time": "2022-04-27T16:45:58.834910",
     "status": "completed"
    },
    "tags": []
   },
   "outputs": [
    {
     "name": "stdout",
     "output_type": "stream",
     "text": [
      "Average of # of times an item is sold :  132.42440234551196\n"
     ]
    }
   ],
   "source": [
    "# Average # of times an item is sold\n",
    "print('Average of # of times an item is sold : ', sales_train.shape[0] / items.shape[0])"
   ]
  },
  {
   "cell_type": "code",
   "execution_count": 11,
   "id": "4134e076",
   "metadata": {
    "execution": {
     "iopub.execute_input": "2022-04-27T16:45:58.923732Z",
     "iopub.status.busy": "2022-04-27T16:45:58.923441Z",
     "iopub.status.idle": "2022-04-27T16:45:59.474678Z",
     "shell.execute_reply": "2022-04-27T16:45:59.473851Z"
    },
    "papermill": {
     "duration": 0.580716,
     "end_time": "2022-04-27T16:45:59.477029",
     "exception": false,
     "start_time": "2022-04-27T16:45:58.896313",
     "status": "completed"
    },
    "tags": []
   },
   "outputs": [
    {
     "data": {
      "text/html": [
       "<div>\n",
       "<style scoped>\n",
       "    .dataframe tbody tr th:only-of-type {\n",
       "        vertical-align: middle;\n",
       "    }\n",
       "\n",
       "    .dataframe tbody tr th {\n",
       "        vertical-align: top;\n",
       "    }\n",
       "\n",
       "    .dataframe thead th {\n",
       "        text-align: right;\n",
       "    }\n",
       "</style>\n",
       "<table border=\"1\" class=\"dataframe\">\n",
       "  <thead>\n",
       "    <tr style=\"text-align: right;\">\n",
       "      <th></th>\n",
       "      <th>date_block_num</th>\n",
       "      <th>shop_id</th>\n",
       "      <th>item_id</th>\n",
       "      <th>item_price</th>\n",
       "      <th>item_cnt_day</th>\n",
       "    </tr>\n",
       "    <tr>\n",
       "      <th>date</th>\n",
       "      <th></th>\n",
       "      <th></th>\n",
       "      <th></th>\n",
       "      <th></th>\n",
       "      <th></th>\n",
       "    </tr>\n",
       "  </thead>\n",
       "  <tbody>\n",
       "    <tr>\n",
       "      <th>2013-02-01</th>\n",
       "      <td>0</td>\n",
       "      <td>59</td>\n",
       "      <td>22154</td>\n",
       "      <td>999.00</td>\n",
       "      <td>1.0</td>\n",
       "    </tr>\n",
       "    <tr>\n",
       "      <th>2013-03-01</th>\n",
       "      <td>0</td>\n",
       "      <td>25</td>\n",
       "      <td>2552</td>\n",
       "      <td>899.00</td>\n",
       "      <td>1.0</td>\n",
       "    </tr>\n",
       "    <tr>\n",
       "      <th>2013-05-01</th>\n",
       "      <td>0</td>\n",
       "      <td>25</td>\n",
       "      <td>2552</td>\n",
       "      <td>899.00</td>\n",
       "      <td>-1.0</td>\n",
       "    </tr>\n",
       "    <tr>\n",
       "      <th>2013-06-01</th>\n",
       "      <td>0</td>\n",
       "      <td>25</td>\n",
       "      <td>2554</td>\n",
       "      <td>1709.05</td>\n",
       "      <td>1.0</td>\n",
       "    </tr>\n",
       "    <tr>\n",
       "      <th>2013-01-15</th>\n",
       "      <td>0</td>\n",
       "      <td>25</td>\n",
       "      <td>2555</td>\n",
       "      <td>1099.00</td>\n",
       "      <td>1.0</td>\n",
       "    </tr>\n",
       "  </tbody>\n",
       "</table>\n",
       "</div>"
      ],
      "text/plain": [
       "            date_block_num  shop_id  item_id  item_price  item_cnt_day\n",
       "date                                                                  \n",
       "2013-02-01               0       59    22154      999.00           1.0\n",
       "2013-03-01               0       25     2552      899.00           1.0\n",
       "2013-05-01               0       25     2552      899.00          -1.0\n",
       "2013-06-01               0       25     2554     1709.05           1.0\n",
       "2013-01-15               0       25     2555     1099.00           1.0"
      ]
     },
     "execution_count": 11,
     "metadata": {},
     "output_type": "execute_result"
    }
   ],
   "source": [
    "sales_train['date'] = pd.to_datetime(sales_train['date'])\n",
    "sales_train.set_index('date', inplace=True)\n",
    "sales_train.head()"
   ]
  },
  {
   "cell_type": "code",
   "execution_count": 12,
   "id": "5fdc24c9",
   "metadata": {
    "execution": {
     "iopub.execute_input": "2022-04-27T16:45:59.532638Z",
     "iopub.status.busy": "2022-04-27T16:45:59.531985Z",
     "iopub.status.idle": "2022-04-27T16:46:00.689031Z",
     "shell.execute_reply": "2022-04-27T16:46:00.688275Z"
    },
    "papermill": {
     "duration": 1.187655,
     "end_time": "2022-04-27T16:46:00.691288",
     "exception": false,
     "start_time": "2022-04-27T16:45:59.503633",
     "status": "completed"
    },
    "tags": []
   },
   "outputs": [],
   "source": [
    "# Merge data\n",
    "items_merged = pd.merge(items, item_cat, on='item_category_id')\n",
    "sales_train_merged = pd.merge(sales_train, shops, on='shop_id')\n",
    "sales_train_merged = pd.merge(sales_train_merged, items_merged, on='item_id')"
   ]
  },
  {
   "cell_type": "code",
   "execution_count": 13,
   "id": "1dfb11a8",
   "metadata": {
    "execution": {
     "iopub.execute_input": "2022-04-27T16:46:00.747040Z",
     "iopub.status.busy": "2022-04-27T16:46:00.746354Z",
     "iopub.status.idle": "2022-04-27T16:46:00.757506Z",
     "shell.execute_reply": "2022-04-27T16:46:00.756658Z"
    },
    "papermill": {
     "duration": 0.041859,
     "end_time": "2022-04-27T16:46:00.759692",
     "exception": false,
     "start_time": "2022-04-27T16:46:00.717833",
     "status": "completed"
    },
    "tags": []
   },
   "outputs": [
    {
     "data": {
      "text/html": [
       "<div>\n",
       "<style scoped>\n",
       "    .dataframe tbody tr th:only-of-type {\n",
       "        vertical-align: middle;\n",
       "    }\n",
       "\n",
       "    .dataframe tbody tr th {\n",
       "        vertical-align: top;\n",
       "    }\n",
       "\n",
       "    .dataframe thead th {\n",
       "        text-align: right;\n",
       "    }\n",
       "</style>\n",
       "<table border=\"1\" class=\"dataframe\">\n",
       "  <thead>\n",
       "    <tr style=\"text-align: right;\">\n",
       "      <th></th>\n",
       "      <th>item_name</th>\n",
       "      <th>item_id</th>\n",
       "      <th>item_category_id</th>\n",
       "      <th>item_category_name</th>\n",
       "    </tr>\n",
       "  </thead>\n",
       "  <tbody>\n",
       "    <tr>\n",
       "      <th>0</th>\n",
       "      <td>! ВО ВЛАСТИ НАВАЖДЕНИЯ (ПЛАСТ.)         D</td>\n",
       "      <td>0</td>\n",
       "      <td>40</td>\n",
       "      <td>Кино - DVD</td>\n",
       "    </tr>\n",
       "    <tr>\n",
       "      <th>1</th>\n",
       "      <td>***В ЛУЧАХ СЛАВЫ   (UNV)                    D</td>\n",
       "      <td>2</td>\n",
       "      <td>40</td>\n",
       "      <td>Кино - DVD</td>\n",
       "    </tr>\n",
       "    <tr>\n",
       "      <th>2</th>\n",
       "      <td>***ГОЛУБАЯ ВОЛНА  (Univ)                      D</td>\n",
       "      <td>3</td>\n",
       "      <td>40</td>\n",
       "      <td>Кино - DVD</td>\n",
       "    </tr>\n",
       "    <tr>\n",
       "      <th>3</th>\n",
       "      <td>***КОРОБКА (СТЕКЛО)                       D</td>\n",
       "      <td>4</td>\n",
       "      <td>40</td>\n",
       "      <td>Кино - DVD</td>\n",
       "    </tr>\n",
       "    <tr>\n",
       "      <th>4</th>\n",
       "      <td>***НОВЫЕ АМЕРИКАНСКИЕ ГРАФФИТИ  (UNI)         ...</td>\n",
       "      <td>5</td>\n",
       "      <td>40</td>\n",
       "      <td>Кино - DVD</td>\n",
       "    </tr>\n",
       "  </tbody>\n",
       "</table>\n",
       "</div>"
      ],
      "text/plain": [
       "                                           item_name  item_id  \\\n",
       "0          ! ВО ВЛАСТИ НАВАЖДЕНИЯ (ПЛАСТ.)         D        0   \n",
       "1      ***В ЛУЧАХ СЛАВЫ   (UNV)                    D        2   \n",
       "2    ***ГОЛУБАЯ ВОЛНА  (Univ)                      D        3   \n",
       "3        ***КОРОБКА (СТЕКЛО)                       D        4   \n",
       "4  ***НОВЫЕ АМЕРИКАНСКИЕ ГРАФФИТИ  (UNI)         ...        5   \n",
       "\n",
       "   item_category_id item_category_name  \n",
       "0                40         Кино - DVD  \n",
       "1                40         Кино - DVD  \n",
       "2                40         Кино - DVD  \n",
       "3                40         Кино - DVD  \n",
       "4                40         Кино - DVD  "
      ]
     },
     "execution_count": 13,
     "metadata": {},
     "output_type": "execute_result"
    }
   ],
   "source": [
    "items_merged.head()"
   ]
  },
  {
   "cell_type": "code",
   "execution_count": 14,
   "id": "c28815ee",
   "metadata": {
    "execution": {
     "iopub.execute_input": "2022-04-27T16:46:00.816750Z",
     "iopub.status.busy": "2022-04-27T16:46:00.816171Z",
     "iopub.status.idle": "2022-04-27T16:46:00.830452Z",
     "shell.execute_reply": "2022-04-27T16:46:00.829620Z"
    },
    "papermill": {
     "duration": 0.045007,
     "end_time": "2022-04-27T16:46:00.832518",
     "exception": false,
     "start_time": "2022-04-27T16:46:00.787511",
     "status": "completed"
    },
    "tags": []
   },
   "outputs": [
    {
     "data": {
      "text/html": [
       "<div>\n",
       "<style scoped>\n",
       "    .dataframe tbody tr th:only-of-type {\n",
       "        vertical-align: middle;\n",
       "    }\n",
       "\n",
       "    .dataframe tbody tr th {\n",
       "        vertical-align: top;\n",
       "    }\n",
       "\n",
       "    .dataframe thead th {\n",
       "        text-align: right;\n",
       "    }\n",
       "</style>\n",
       "<table border=\"1\" class=\"dataframe\">\n",
       "  <thead>\n",
       "    <tr style=\"text-align: right;\">\n",
       "      <th></th>\n",
       "      <th>date_block_num</th>\n",
       "      <th>shop_id</th>\n",
       "      <th>item_id</th>\n",
       "      <th>item_price</th>\n",
       "      <th>item_cnt_day</th>\n",
       "      <th>shop_name</th>\n",
       "      <th>item_name</th>\n",
       "      <th>item_category_id</th>\n",
       "      <th>item_category_name</th>\n",
       "    </tr>\n",
       "  </thead>\n",
       "  <tbody>\n",
       "    <tr>\n",
       "      <th>0</th>\n",
       "      <td>0</td>\n",
       "      <td>59</td>\n",
       "      <td>22154</td>\n",
       "      <td>999.0</td>\n",
       "      <td>1.0</td>\n",
       "      <td>Ярославль ТЦ \"Альтаир\"</td>\n",
       "      <td>ЯВЛЕНИЕ 2012 (BD)</td>\n",
       "      <td>37</td>\n",
       "      <td>Кино - Blu-Ray</td>\n",
       "    </tr>\n",
       "    <tr>\n",
       "      <th>1</th>\n",
       "      <td>0</td>\n",
       "      <td>25</td>\n",
       "      <td>22154</td>\n",
       "      <td>999.0</td>\n",
       "      <td>1.0</td>\n",
       "      <td>Москва ТРК \"Атриум\"</td>\n",
       "      <td>ЯВЛЕНИЕ 2012 (BD)</td>\n",
       "      <td>37</td>\n",
       "      <td>Кино - Blu-Ray</td>\n",
       "    </tr>\n",
       "    <tr>\n",
       "      <th>2</th>\n",
       "      <td>0</td>\n",
       "      <td>25</td>\n",
       "      <td>22154</td>\n",
       "      <td>999.0</td>\n",
       "      <td>1.0</td>\n",
       "      <td>Москва ТРК \"Атриум\"</td>\n",
       "      <td>ЯВЛЕНИЕ 2012 (BD)</td>\n",
       "      <td>37</td>\n",
       "      <td>Кино - Blu-Ray</td>\n",
       "    </tr>\n",
       "    <tr>\n",
       "      <th>3</th>\n",
       "      <td>0</td>\n",
       "      <td>25</td>\n",
       "      <td>22154</td>\n",
       "      <td>999.0</td>\n",
       "      <td>1.0</td>\n",
       "      <td>Москва ТРК \"Атриум\"</td>\n",
       "      <td>ЯВЛЕНИЕ 2012 (BD)</td>\n",
       "      <td>37</td>\n",
       "      <td>Кино - Blu-Ray</td>\n",
       "    </tr>\n",
       "    <tr>\n",
       "      <th>4</th>\n",
       "      <td>0</td>\n",
       "      <td>25</td>\n",
       "      <td>22154</td>\n",
       "      <td>999.0</td>\n",
       "      <td>1.0</td>\n",
       "      <td>Москва ТРК \"Атриум\"</td>\n",
       "      <td>ЯВЛЕНИЕ 2012 (BD)</td>\n",
       "      <td>37</td>\n",
       "      <td>Кино - Blu-Ray</td>\n",
       "    </tr>\n",
       "  </tbody>\n",
       "</table>\n",
       "</div>"
      ],
      "text/plain": [
       "   date_block_num  shop_id  item_id  item_price  item_cnt_day  \\\n",
       "0               0       59    22154       999.0           1.0   \n",
       "1               0       25    22154       999.0           1.0   \n",
       "2               0       25    22154       999.0           1.0   \n",
       "3               0       25    22154       999.0           1.0   \n",
       "4               0       25    22154       999.0           1.0   \n",
       "\n",
       "                shop_name          item_name  item_category_id  \\\n",
       "0  Ярославль ТЦ \"Альтаир\"  ЯВЛЕНИЕ 2012 (BD)                37   \n",
       "1     Москва ТРК \"Атриум\"  ЯВЛЕНИЕ 2012 (BD)                37   \n",
       "2     Москва ТРК \"Атриум\"  ЯВЛЕНИЕ 2012 (BD)                37   \n",
       "3     Москва ТРК \"Атриум\"  ЯВЛЕНИЕ 2012 (BD)                37   \n",
       "4     Москва ТРК \"Атриум\"  ЯВЛЕНИЕ 2012 (BD)                37   \n",
       "\n",
       "  item_category_name  \n",
       "0     Кино - Blu-Ray  \n",
       "1     Кино - Blu-Ray  \n",
       "2     Кино - Blu-Ray  \n",
       "3     Кино - Blu-Ray  \n",
       "4     Кино - Blu-Ray  "
      ]
     },
     "execution_count": 14,
     "metadata": {},
     "output_type": "execute_result"
    }
   ],
   "source": [
    "sales_train_merged.head()"
   ]
  },
  {
   "cell_type": "markdown",
   "id": "cd28a538",
   "metadata": {
    "papermill": {
     "duration": 0.027472,
     "end_time": "2022-04-27T16:46:00.887960",
     "exception": false,
     "start_time": "2022-04-27T16:46:00.860488",
     "status": "completed"
    },
    "tags": []
   },
   "source": [
    "## Visualization of sales per item_id"
   ]
  },
  {
   "cell_type": "code",
   "execution_count": 15,
   "id": "00005848",
   "metadata": {
    "execution": {
     "iopub.execute_input": "2022-04-27T16:46:00.945642Z",
     "iopub.status.busy": "2022-04-27T16:46:00.945084Z",
     "iopub.status.idle": "2022-04-27T16:46:00.950985Z",
     "shell.execute_reply": "2022-04-27T16:46:00.950183Z"
    },
    "papermill": {
     "duration": 0.037313,
     "end_time": "2022-04-27T16:46:00.953195",
     "exception": false,
     "start_time": "2022-04-27T16:46:00.915882",
     "status": "completed"
    },
    "tags": []
   },
   "outputs": [],
   "source": [
    "def visualize_monthly_cnt(item_id):\n",
    "    filtered_df = sales_train[sales_train['item_id'] == item_id].copy()\n",
    "    filtered_df['item_cnt_day'].resample('M').agg(['sum']).plot(color='blue',ls='-', legend=False, ylabel='montly cnt of item {}'.format(item_id))"
   ]
  },
  {
   "cell_type": "code",
   "execution_count": 16,
   "id": "2255beb2",
   "metadata": {
    "execution": {
     "iopub.execute_input": "2022-04-27T16:46:01.011737Z",
     "iopub.status.busy": "2022-04-27T16:46:01.011141Z",
     "iopub.status.idle": "2022-04-27T16:46:01.440013Z",
     "shell.execute_reply": "2022-04-27T16:46:01.439137Z"
    },
    "papermill": {
     "duration": 0.461012,
     "end_time": "2022-04-27T16:46:01.442291",
     "exception": false,
     "start_time": "2022-04-27T16:46:00.981279",
     "status": "completed"
    },
    "tags": []
   },
   "outputs": [
    {
     "data": {
      "image/png": "[encoded data removed]",
      "text/plain": [
       "<Figure size 432x288 with 1 Axes>"
      ]
     },
     "metadata": {
      "needs_background": "light"
     },
     "output_type": "display_data"
    }
   ],
   "source": [
    "visualize_monthly_cnt(4561)"
   ]
  }
 ],
 "metadata": {
  "kernelspec": {
   "display_name": "Python 3",
   "language": "python",
   "name": "python3"
  },
  "language_info": {
   "codemirror_mode": {
    "name": "ipython",
    "version": 3
   },
   "file_extension": ".py",
   "mimetype": "text/x-python",
   "name": "python",
   "nbconvert_exporter": "python",
   "pygments_lexer": "ipython3",
   "version": "3.7.12"
  },
  "papermill": {
   "default_parameters": {},
   "duration": 17.214015,
   "end_time": "2022-04-27T16:46:02.191604",
   "environment_variables": {},
   "exception": null,
   "input_path": "__notebook__.ipynb",
   "output_path": "__notebook__.ipynb",
   "parameters": {},
   "start_time": "2022-04-27T16:45:44.977589",
   "version": "2.3.4"
  }
 },
 "nbformat": 4,
 "nbformat_minor": 5
}

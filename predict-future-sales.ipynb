{
 "cells": [
  {
   "cell_type": "code",
   "execution_count": 1,
   "id": "e882e2ce",
   "metadata": {
    "_cell_guid": "b1076dfc-b9ad-4769-8c92-a6c4dae69d19",
    "_uuid": "8f2839f25d086af736a60e9eeb907d3b93b6e0e5",
    "execution": {
     "iopub.execute_input": "2022-04-27T15:42:13.164394Z",
     "iopub.status.busy": "2022-04-27T15:42:13.164060Z",
     "iopub.status.idle": "2022-04-27T15:42:13.179255Z",
     "shell.execute_reply": "2022-04-27T15:42:13.177970Z"
    },
    "papermill": {
     "duration": 0.045461,
     "end_time": "2022-04-27T15:42:13.181681",
     "exception": false,
     "start_time": "2022-04-27T15:42:13.136220",
     "status": "completed"
    },
    "tags": []
   },
   "outputs": [
    {
     "name": "stdout",
     "output_type": "stream",
     "text": [
      "/kaggle/input/competitive-data-science-predict-future-sales/items.csv\n",
      "/kaggle/input/competitive-data-science-predict-future-sales/sample_submission.csv\n",
      "/kaggle/input/competitive-data-science-predict-future-sales/item_categories.csv\n",
      "/kaggle/input/competitive-data-science-predict-future-sales/sales_train.csv\n",
      "/kaggle/input/competitive-data-science-predict-future-sales/shops.csv\n",
      "/kaggle/input/competitive-data-science-predict-future-sales/test.csv\n"
     ]
    }
   ],
   "source": [
    "# This Python 3 environment comes with many helpful analytics libraries installed\n",
    "# It is defined by the kaggle/python Docker image: https://github.com/kaggle/docker-python\n",
    "# For example, here's several helpful packages to load\n",
    "\n",
    "import numpy as np # linear algebra\n",
    "import pandas as pd # data processing, CSV file I/O (e.g. pd.read_csv)\n",
    "\n",
    "# Input data files are available in the read-only \"../input/\" directory\n",
    "# For example, running this (by clicking run or pressing Shift+Enter) will list all files under the input directory\n",
    "\n",
    "import os\n",
    "for dirname, _, filenames in os.walk('/kaggle/input'):\n",
    "    for filename in filenames:\n",
    "        print(os.path.join(dirname, filename))\n",
    "\n",
    "# You can write up to 20GB to the current directory (/kaggle/working/) that gets preserved as output when you create a version using \"Save & Run All\" \n",
    "# You can also write temporary files to /kaggle/temp/, but they won't be saved outside of the current session"
   ]
  },
  {
   "cell_type": "code",
   "execution_count": 2,
   "id": "538dd89a",
   "metadata": {
    "execution": {
     "iopub.execute_input": "2022-04-27T15:42:13.234675Z",
     "iopub.status.busy": "2022-04-27T15:42:13.234386Z",
     "iopub.status.idle": "2022-04-27T15:42:13.237951Z",
     "shell.execute_reply": "2022-04-27T15:42:13.237213Z"
    },
    "papermill": {
     "duration": 0.032033,
     "end_time": "2022-04-27T15:42:13.239779",
     "exception": false,
     "start_time": "2022-04-27T15:42:13.207746",
     "status": "completed"
    },
    "tags": []
   },
   "outputs": [],
   "source": [
    "# Imports...\n",
    "import matplotlib.pyplot as mp"
   ]
  },
  {
   "cell_type": "code",
   "execution_count": 3,
   "id": "b355f2f1",
   "metadata": {
    "execution": {
     "iopub.execute_input": "2022-04-27T15:42:13.293457Z",
     "iopub.status.busy": "2022-04-27T15:42:13.293032Z",
     "iopub.status.idle": "2022-04-27T15:42:15.947373Z",
     "shell.execute_reply": "2022-04-27T15:42:15.946595Z"
    },
    "papermill": {
     "duration": 2.683679,
     "end_time": "2022-04-27T15:42:15.949689",
     "exception": false,
     "start_time": "2022-04-27T15:42:13.266010",
     "status": "completed"
    },
    "tags": []
   },
   "outputs": [],
   "source": [
    "# get all data\n",
    "sales_train = pd.read_csv(\"../input/competitive-data-science-predict-future-sales/sales_train.csv\")\n",
    "items = pd.read_csv(\"../input/competitive-data-science-predict-future-sales/items.csv\")\n",
    "item_cat = pd.read_csv(\"../input/competitive-data-science-predict-future-sales/item_categories.csv\")\n",
    "shops = pd.read_csv(\"../input/competitive-data-science-predict-future-sales/shops.csv\")"
   ]
  },
  {
   "cell_type": "markdown",
   "id": "2b66bba5",
   "metadata": {
    "papermill": {
     "duration": 0.024916,
     "end_time": "2022-04-27T15:42:16.002981",
     "exception": false,
     "start_time": "2022-04-27T15:42:15.978065",
     "status": "completed"
    },
    "tags": []
   },
   "source": [
    "# Overview of data\n",
    "## Sales train"
   ]
  },
  {
   "cell_type": "code",
   "execution_count": 4,
   "id": "221a9c5f",
   "metadata": {
    "execution": {
     "iopub.execute_input": "2022-04-27T15:42:16.054880Z",
     "iopub.status.busy": "2022-04-27T15:42:16.054567Z",
     "iopub.status.idle": "2022-04-27T15:42:16.077822Z",
     "shell.execute_reply": "2022-04-27T15:42:16.076982Z"
    },
    "papermill": {
     "duration": 0.051962,
     "end_time": "2022-04-27T15:42:16.080169",
     "exception": false,
     "start_time": "2022-04-27T15:42:16.028207",
     "status": "completed"
    },
    "tags": []
   },
   "outputs": [
    {
     "data": {
      "text/html": [
       "<div>\n",
       "<style scoped>\n",
       "    .dataframe tbody tr th:only-of-type {\n",
       "        vertical-align: middle;\n",
       "    }\n",
       "\n",
       "    .dataframe tbody tr th {\n",
       "        vertical-align: top;\n",
       "    }\n",
       "\n",
       "    .dataframe thead th {\n",
       "        text-align: right;\n",
       "    }\n",
       "</style>\n",
       "<table border=\"1\" class=\"dataframe\">\n",
       "  <thead>\n",
       "    <tr style=\"text-align: right;\">\n",
       "      <th></th>\n",
       "      <th>date</th>\n",
       "      <th>date_block_num</th>\n",
       "      <th>shop_id</th>\n",
       "      <th>item_id</th>\n",
       "      <th>item_price</th>\n",
       "      <th>item_cnt_day</th>\n",
       "    </tr>\n",
       "  </thead>\n",
       "  <tbody>\n",
       "    <tr>\n",
       "      <th>0</th>\n",
       "      <td>02.01.2013</td>\n",
       "      <td>0</td>\n",
       "      <td>59</td>\n",
       "      <td>22154</td>\n",
       "      <td>999.00</td>\n",
       "      <td>1.0</td>\n",
       "    </tr>\n",
       "    <tr>\n",
       "      <th>1</th>\n",
       "      <td>03.01.2013</td>\n",
       "      <td>0</td>\n",
       "      <td>25</td>\n",
       "      <td>2552</td>\n",
       "      <td>899.00</td>\n",
       "      <td>1.0</td>\n",
       "    </tr>\n",
       "    <tr>\n",
       "      <th>2</th>\n",
       "      <td>05.01.2013</td>\n",
       "      <td>0</td>\n",
       "      <td>25</td>\n",
       "      <td>2552</td>\n",
       "      <td>899.00</td>\n",
       "      <td>-1.0</td>\n",
       "    </tr>\n",
       "    <tr>\n",
       "      <th>3</th>\n",
       "      <td>06.01.2013</td>\n",
       "      <td>0</td>\n",
       "      <td>25</td>\n",
       "      <td>2554</td>\n",
       "      <td>1709.05</td>\n",
       "      <td>1.0</td>\n",
       "    </tr>\n",
       "    <tr>\n",
       "      <th>4</th>\n",
       "      <td>15.01.2013</td>\n",
       "      <td>0</td>\n",
       "      <td>25</td>\n",
       "      <td>2555</td>\n",
       "      <td>1099.00</td>\n",
       "      <td>1.0</td>\n",
       "    </tr>\n",
       "    <tr>\n",
       "      <th>5</th>\n",
       "      <td>10.01.2013</td>\n",
       "      <td>0</td>\n",
       "      <td>25</td>\n",
       "      <td>2564</td>\n",
       "      <td>349.00</td>\n",
       "      <td>1.0</td>\n",
       "    </tr>\n",
       "    <tr>\n",
       "      <th>6</th>\n",
       "      <td>02.01.2013</td>\n",
       "      <td>0</td>\n",
       "      <td>25</td>\n",
       "      <td>2565</td>\n",
       "      <td>549.00</td>\n",
       "      <td>1.0</td>\n",
       "    </tr>\n",
       "    <tr>\n",
       "      <th>7</th>\n",
       "      <td>04.01.2013</td>\n",
       "      <td>0</td>\n",
       "      <td>25</td>\n",
       "      <td>2572</td>\n",
       "      <td>239.00</td>\n",
       "      <td>1.0</td>\n",
       "    </tr>\n",
       "    <tr>\n",
       "      <th>8</th>\n",
       "      <td>11.01.2013</td>\n",
       "      <td>0</td>\n",
       "      <td>25</td>\n",
       "      <td>2572</td>\n",
       "      <td>299.00</td>\n",
       "      <td>1.0</td>\n",
       "    </tr>\n",
       "    <tr>\n",
       "      <th>9</th>\n",
       "      <td>03.01.2013</td>\n",
       "      <td>0</td>\n",
       "      <td>25</td>\n",
       "      <td>2573</td>\n",
       "      <td>299.00</td>\n",
       "      <td>3.0</td>\n",
       "    </tr>\n",
       "  </tbody>\n",
       "</table>\n",
       "</div>"
      ],
      "text/plain": [
       "         date  date_block_num  shop_id  item_id  item_price  item_cnt_day\n",
       "0  02.01.2013               0       59    22154      999.00           1.0\n",
       "1  03.01.2013               0       25     2552      899.00           1.0\n",
       "2  05.01.2013               0       25     2552      899.00          -1.0\n",
       "3  06.01.2013               0       25     2554     1709.05           1.0\n",
       "4  15.01.2013               0       25     2555     1099.00           1.0\n",
       "5  10.01.2013               0       25     2564      349.00           1.0\n",
       "6  02.01.2013               0       25     2565      549.00           1.0\n",
       "7  04.01.2013               0       25     2572      239.00           1.0\n",
       "8  11.01.2013               0       25     2572      299.00           1.0\n",
       "9  03.01.2013               0       25     2573      299.00           3.0"
      ]
     },
     "execution_count": 4,
     "metadata": {},
     "output_type": "execute_result"
    }
   ],
   "source": [
    "sales_train.head(10)"
   ]
  },
  {
   "cell_type": "code",
   "execution_count": 5,
   "id": "211e3a0a",
   "metadata": {
    "execution": {
     "iopub.execute_input": "2022-04-27T15:42:16.134262Z",
     "iopub.status.busy": "2022-04-27T15:42:16.133949Z",
     "iopub.status.idle": "2022-04-27T15:42:16.145734Z",
     "shell.execute_reply": "2022-04-27T15:42:16.144954Z"
    },
    "papermill": {
     "duration": 0.040725,
     "end_time": "2022-04-27T15:42:16.147585",
     "exception": false,
     "start_time": "2022-04-27T15:42:16.106860",
     "status": "completed"
    },
    "tags": []
   },
   "outputs": [
    {
     "data": {
      "text/plain": [
       "<bound method DataFrame.info of                date  date_block_num  shop_id  item_id  item_price  \\\n",
       "0        02.01.2013               0       59    22154      999.00   \n",
       "1        03.01.2013               0       25     2552      899.00   \n",
       "2        05.01.2013               0       25     2552      899.00   \n",
       "3        06.01.2013               0       25     2554     1709.05   \n",
       "4        15.01.2013               0       25     2555     1099.00   \n",
       "...             ...             ...      ...      ...         ...   \n",
       "2935844  10.10.2015              33       25     7409      299.00   \n",
       "2935845  09.10.2015              33       25     7460      299.00   \n",
       "2935846  14.10.2015              33       25     7459      349.00   \n",
       "2935847  22.10.2015              33       25     7440      299.00   \n",
       "2935848  03.10.2015              33       25     7460      299.00   \n",
       "\n",
       "         item_cnt_day  \n",
       "0                 1.0  \n",
       "1                 1.0  \n",
       "2                -1.0  \n",
       "3                 1.0  \n",
       "4                 1.0  \n",
       "...               ...  \n",
       "2935844           1.0  \n",
       "2935845           1.0  \n",
       "2935846           1.0  \n",
       "2935847           1.0  \n",
       "2935848           1.0  \n",
       "\n",
       "[2935849 rows x 6 columns]>"
      ]
     },
     "execution_count": 5,
     "metadata": {},
     "output_type": "execute_result"
    }
   ],
   "source": [
    "sales_train.info"
   ]
  },
  {
   "cell_type": "markdown",
   "id": "cd66179a",
   "metadata": {
    "papermill": {
     "duration": 0.027958,
     "end_time": "2022-04-27T15:42:16.202064",
     "exception": false,
     "start_time": "2022-04-27T15:42:16.174106",
     "status": "completed"
    },
    "tags": []
   },
   "source": [
    "## Items"
   ]
  },
  {
   "cell_type": "code",
   "execution_count": 6,
   "id": "a584d49e",
   "metadata": {
    "execution": {
     "iopub.execute_input": "2022-04-27T15:42:16.256399Z",
     "iopub.status.busy": "2022-04-27T15:42:16.256098Z",
     "iopub.status.idle": "2022-04-27T15:42:16.265930Z",
     "shell.execute_reply": "2022-04-27T15:42:16.265094Z"
    },
    "papermill": {
     "duration": 0.039725,
     "end_time": "2022-04-27T15:42:16.268033",
     "exception": false,
     "start_time": "2022-04-27T15:42:16.228308",
     "status": "completed"
    },
    "tags": []
   },
   "outputs": [
    {
     "data": {
      "text/html": [
       "<div>\n",
       "<style scoped>\n",
       "    .dataframe tbody tr th:only-of-type {\n",
       "        vertical-align: middle;\n",
       "    }\n",
       "\n",
       "    .dataframe tbody tr th {\n",
       "        vertical-align: top;\n",
       "    }\n",
       "\n",
       "    .dataframe thead th {\n",
       "        text-align: right;\n",
       "    }\n",
       "</style>\n",
       "<table border=\"1\" class=\"dataframe\">\n",
       "  <thead>\n",
       "    <tr style=\"text-align: right;\">\n",
       "      <th></th>\n",
       "      <th>item_name</th>\n",
       "      <th>item_id</th>\n",
       "      <th>item_category_id</th>\n",
       "    </tr>\n",
       "  </thead>\n",
       "  <tbody>\n",
       "    <tr>\n",
       "      <th>0</th>\n",
       "      <td>! ВО ВЛАСТИ НАВАЖДЕНИЯ (ПЛАСТ.)         D</td>\n",
       "      <td>0</td>\n",
       "      <td>40</td>\n",
       "    </tr>\n",
       "    <tr>\n",
       "      <th>1</th>\n",
       "      <td>!ABBYY FineReader 12 Professional Edition Full...</td>\n",
       "      <td>1</td>\n",
       "      <td>76</td>\n",
       "    </tr>\n",
       "    <tr>\n",
       "      <th>2</th>\n",
       "      <td>***В ЛУЧАХ СЛАВЫ   (UNV)                    D</td>\n",
       "      <td>2</td>\n",
       "      <td>40</td>\n",
       "    </tr>\n",
       "    <tr>\n",
       "      <th>3</th>\n",
       "      <td>***ГОЛУБАЯ ВОЛНА  (Univ)                      D</td>\n",
       "      <td>3</td>\n",
       "      <td>40</td>\n",
       "    </tr>\n",
       "    <tr>\n",
       "      <th>4</th>\n",
       "      <td>***КОРОБКА (СТЕКЛО)                       D</td>\n",
       "      <td>4</td>\n",
       "      <td>40</td>\n",
       "    </tr>\n",
       "  </tbody>\n",
       "</table>\n",
       "</div>"
      ],
      "text/plain": [
       "                                           item_name  item_id  \\\n",
       "0          ! ВО ВЛАСТИ НАВАЖДЕНИЯ (ПЛАСТ.)         D        0   \n",
       "1  !ABBYY FineReader 12 Professional Edition Full...        1   \n",
       "2      ***В ЛУЧАХ СЛАВЫ   (UNV)                    D        2   \n",
       "3    ***ГОЛУБАЯ ВОЛНА  (Univ)                      D        3   \n",
       "4        ***КОРОБКА (СТЕКЛО)                       D        4   \n",
       "\n",
       "   item_category_id  \n",
       "0                40  \n",
       "1                76  \n",
       "2                40  \n",
       "3                40  \n",
       "4                40  "
      ]
     },
     "execution_count": 6,
     "metadata": {},
     "output_type": "execute_result"
    }
   ],
   "source": [
    "items.head()"
   ]
  },
  {
   "cell_type": "code",
   "execution_count": 7,
   "id": "6699789a",
   "metadata": {
    "execution": {
     "iopub.execute_input": "2022-04-27T15:42:16.323640Z",
     "iopub.status.busy": "2022-04-27T15:42:16.323360Z",
     "iopub.status.idle": "2022-04-27T15:42:16.333135Z",
     "shell.execute_reply": "2022-04-27T15:42:16.332296Z"
    },
    "papermill": {
     "duration": 0.039974,
     "end_time": "2022-04-27T15:42:16.335163",
     "exception": false,
     "start_time": "2022-04-27T15:42:16.295189",
     "status": "completed"
    },
    "tags": []
   },
   "outputs": [
    {
     "data": {
      "text/plain": [
       "<bound method DataFrame.info of                                                item_name  item_id  \\\n",
       "0              ! ВО ВЛАСТИ НАВАЖДЕНИЯ (ПЛАСТ.)         D        0   \n",
       "1      !ABBYY FineReader 12 Professional Edition Full...        1   \n",
       "2          ***В ЛУЧАХ СЛАВЫ   (UNV)                    D        2   \n",
       "3        ***ГОЛУБАЯ ВОЛНА  (Univ)                      D        3   \n",
       "4            ***КОРОБКА (СТЕКЛО)                       D        4   \n",
       "...                                                  ...      ...   \n",
       "22165             Ядерный титбит 2 [PC, Цифровая версия]    22165   \n",
       "22166    Язык запросов 1С:Предприятия  [Цифровая версия]    22166   \n",
       "22167  Язык запросов 1С:Предприятия 8 (+CD). Хрустале...    22167   \n",
       "22168                                Яйцо для Little Inu    22168   \n",
       "22169                      Яйцо дракона (Игра престолов)    22169   \n",
       "\n",
       "       item_category_id  \n",
       "0                    40  \n",
       "1                    76  \n",
       "2                    40  \n",
       "3                    40  \n",
       "4                    40  \n",
       "...                 ...  \n",
       "22165                31  \n",
       "22166                54  \n",
       "22167                49  \n",
       "22168                62  \n",
       "22169                69  \n",
       "\n",
       "[22170 rows x 3 columns]>"
      ]
     },
     "execution_count": 7,
     "metadata": {},
     "output_type": "execute_result"
    }
   ],
   "source": [
    "items.info"
   ]
  },
  {
   "cell_type": "markdown",
   "id": "09f55e55",
   "metadata": {
    "papermill": {
     "duration": 0.026949,
     "end_time": "2022-04-27T15:42:16.390032",
     "exception": false,
     "start_time": "2022-04-27T15:42:16.363083",
     "status": "completed"
    },
    "tags": []
   },
   "source": [
    "## Item Categories"
   ]
  },
  {
   "cell_type": "code",
   "execution_count": 8,
   "id": "7287db09",
   "metadata": {
    "execution": {
     "iopub.execute_input": "2022-04-27T15:42:16.447907Z",
     "iopub.status.busy": "2022-04-27T15:42:16.447600Z",
     "iopub.status.idle": "2022-04-27T15:42:16.456845Z",
     "shell.execute_reply": "2022-04-27T15:42:16.455851Z"
    },
    "papermill": {
     "duration": 0.041376,
     "end_time": "2022-04-27T15:42:16.458829",
     "exception": false,
     "start_time": "2022-04-27T15:42:16.417453",
     "status": "completed"
    },
    "tags": []
   },
   "outputs": [
    {
     "data": {
      "text/html": [
       "<div>\n",
       "<style scoped>\n",
       "    .dataframe tbody tr th:only-of-type {\n",
       "        vertical-align: middle;\n",
       "    }\n",
       "\n",
       "    .dataframe tbody tr th {\n",
       "        vertical-align: top;\n",
       "    }\n",
       "\n",
       "    .dataframe thead th {\n",
       "        text-align: right;\n",
       "    }\n",
       "</style>\n",
       "<table border=\"1\" class=\"dataframe\">\n",
       "  <thead>\n",
       "    <tr style=\"text-align: right;\">\n",
       "      <th></th>\n",
       "      <th>item_category_name</th>\n",
       "      <th>item_category_id</th>\n",
       "    </tr>\n",
       "  </thead>\n",
       "  <tbody>\n",
       "    <tr>\n",
       "      <th>0</th>\n",
       "      <td>PC - Гарнитуры/Наушники</td>\n",
       "      <td>0</td>\n",
       "    </tr>\n",
       "    <tr>\n",
       "      <th>1</th>\n",
       "      <td>Аксессуары - PS2</td>\n",
       "      <td>1</td>\n",
       "    </tr>\n",
       "    <tr>\n",
       "      <th>2</th>\n",
       "      <td>Аксессуары - PS3</td>\n",
       "      <td>2</td>\n",
       "    </tr>\n",
       "    <tr>\n",
       "      <th>3</th>\n",
       "      <td>Аксессуары - PS4</td>\n",
       "      <td>3</td>\n",
       "    </tr>\n",
       "    <tr>\n",
       "      <th>4</th>\n",
       "      <td>Аксессуары - PSP</td>\n",
       "      <td>4</td>\n",
       "    </tr>\n",
       "  </tbody>\n",
       "</table>\n",
       "</div>"
      ],
      "text/plain": [
       "        item_category_name  item_category_id\n",
       "0  PC - Гарнитуры/Наушники                 0\n",
       "1         Аксессуары - PS2                 1\n",
       "2         Аксессуары - PS3                 2\n",
       "3         Аксессуары - PS4                 3\n",
       "4         Аксессуары - PSP                 4"
      ]
     },
     "execution_count": 8,
     "metadata": {},
     "output_type": "execute_result"
    }
   ],
   "source": [
    "item_cat.head()"
   ]
  },
  {
   "cell_type": "code",
   "execution_count": 9,
   "id": "d4f63f13",
   "metadata": {
    "execution": {
     "iopub.execute_input": "2022-04-27T15:42:16.516695Z",
     "iopub.status.busy": "2022-04-27T15:42:16.516397Z",
     "iopub.status.idle": "2022-04-27T15:42:16.524299Z",
     "shell.execute_reply": "2022-04-27T15:42:16.523705Z"
    },
    "papermill": {
     "duration": 0.039448,
     "end_time": "2022-04-27T15:42:16.526377",
     "exception": false,
     "start_time": "2022-04-27T15:42:16.486929",
     "status": "completed"
    },
    "tags": []
   },
   "outputs": [
    {
     "data": {
      "text/plain": [
       "<bound method DataFrame.info of            item_category_name  item_category_id\n",
       "0     PC - Гарнитуры/Наушники                 0\n",
       "1            Аксессуары - PS2                 1\n",
       "2            Аксессуары - PS3                 2\n",
       "3            Аксессуары - PS4                 3\n",
       "4            Аксессуары - PSP                 4\n",
       "..                        ...               ...\n",
       "79                  Служебные                79\n",
       "80         Служебные - Билеты                80\n",
       "81    Чистые носители (шпиль)                81\n",
       "82  Чистые носители (штучные)                82\n",
       "83           Элементы питания                83\n",
       "\n",
       "[84 rows x 2 columns]>"
      ]
     },
     "execution_count": 9,
     "metadata": {},
     "output_type": "execute_result"
    }
   ],
   "source": [
    "item_cat.info"
   ]
  },
  {
   "cell_type": "markdown",
   "id": "af658037",
   "metadata": {
    "papermill": {
     "duration": 0.028371,
     "end_time": "2022-04-27T15:42:16.583328",
     "exception": false,
     "start_time": "2022-04-27T15:42:16.554957",
     "status": "completed"
    },
    "tags": []
   },
   "source": [
    "## Shops"
   ]
  },
  {
   "cell_type": "code",
   "execution_count": 10,
   "id": "1f898757",
   "metadata": {
    "execution": {
     "iopub.execute_input": "2022-04-27T15:42:16.641342Z",
     "iopub.status.busy": "2022-04-27T15:42:16.641062Z",
     "iopub.status.idle": "2022-04-27T15:42:16.650561Z",
     "shell.execute_reply": "2022-04-27T15:42:16.649670Z"
    },
    "papermill": {
     "duration": 0.041055,
     "end_time": "2022-04-27T15:42:16.652669",
     "exception": false,
     "start_time": "2022-04-27T15:42:16.611614",
     "status": "completed"
    },
    "tags": []
   },
   "outputs": [
    {
     "data": {
      "text/html": [
       "<div>\n",
       "<style scoped>\n",
       "    .dataframe tbody tr th:only-of-type {\n",
       "        vertical-align: middle;\n",
       "    }\n",
       "\n",
       "    .dataframe tbody tr th {\n",
       "        vertical-align: top;\n",
       "    }\n",
       "\n",
       "    .dataframe thead th {\n",
       "        text-align: right;\n",
       "    }\n",
       "</style>\n",
       "<table border=\"1\" class=\"dataframe\">\n",
       "  <thead>\n",
       "    <tr style=\"text-align: right;\">\n",
       "      <th></th>\n",
       "      <th>shop_name</th>\n",
       "      <th>shop_id</th>\n",
       "    </tr>\n",
       "  </thead>\n",
       "  <tbody>\n",
       "    <tr>\n",
       "      <th>0</th>\n",
       "      <td>!Якутск Орджоникидзе, 56 фран</td>\n",
       "      <td>0</td>\n",
       "    </tr>\n",
       "    <tr>\n",
       "      <th>1</th>\n",
       "      <td>!Якутск ТЦ \"Центральный\" фран</td>\n",
       "      <td>1</td>\n",
       "    </tr>\n",
       "    <tr>\n",
       "      <th>2</th>\n",
       "      <td>Адыгея ТЦ \"Мега\"</td>\n",
       "      <td>2</td>\n",
       "    </tr>\n",
       "    <tr>\n",
       "      <th>3</th>\n",
       "      <td>Балашиха ТРК \"Октябрь-Киномир\"</td>\n",
       "      <td>3</td>\n",
       "    </tr>\n",
       "    <tr>\n",
       "      <th>4</th>\n",
       "      <td>Волжский ТЦ \"Волга Молл\"</td>\n",
       "      <td>4</td>\n",
       "    </tr>\n",
       "  </tbody>\n",
       "</table>\n",
       "</div>"
      ],
      "text/plain": [
       "                        shop_name  shop_id\n",
       "0   !Якутск Орджоникидзе, 56 фран        0\n",
       "1   !Якутск ТЦ \"Центральный\" фран        1\n",
       "2                Адыгея ТЦ \"Мега\"        2\n",
       "3  Балашиха ТРК \"Октябрь-Киномир\"        3\n",
       "4        Волжский ТЦ \"Волга Молл\"        4"
      ]
     },
     "execution_count": 10,
     "metadata": {},
     "output_type": "execute_result"
    }
   ],
   "source": [
    "shops.head()"
   ]
  },
  {
   "cell_type": "code",
   "execution_count": 11,
   "id": "709331e9",
   "metadata": {
    "execution": {
     "iopub.execute_input": "2022-04-27T15:42:16.712446Z",
     "iopub.status.busy": "2022-04-27T15:42:16.711947Z",
     "iopub.status.idle": "2022-04-27T15:42:16.720771Z",
     "shell.execute_reply": "2022-04-27T15:42:16.720227Z"
    },
    "papermill": {
     "duration": 0.041496,
     "end_time": "2022-04-27T15:42:16.723250",
     "exception": false,
     "start_time": "2022-04-27T15:42:16.681754",
     "status": "completed"
    },
    "tags": []
   },
   "outputs": [
    {
     "data": {
      "text/html": [
       "<div>\n",
       "<style scoped>\n",
       "    .dataframe tbody tr th:only-of-type {\n",
       "        vertical-align: middle;\n",
       "    }\n",
       "\n",
       "    .dataframe tbody tr th {\n",
       "        vertical-align: top;\n",
       "    }\n",
       "\n",
       "    .dataframe thead th {\n",
       "        text-align: right;\n",
       "    }\n",
       "</style>\n",
       "<table border=\"1\" class=\"dataframe\">\n",
       "  <thead>\n",
       "    <tr style=\"text-align: right;\">\n",
       "      <th></th>\n",
       "      <th>shop_name</th>\n",
       "      <th>shop_id</th>\n",
       "    </tr>\n",
       "  </thead>\n",
       "  <tbody>\n",
       "    <tr>\n",
       "      <th>0</th>\n",
       "      <td>!Якутск Орджоникидзе, 56 фран</td>\n",
       "      <td>0</td>\n",
       "    </tr>\n",
       "    <tr>\n",
       "      <th>1</th>\n",
       "      <td>!Якутск ТЦ \"Центральный\" фран</td>\n",
       "      <td>1</td>\n",
       "    </tr>\n",
       "    <tr>\n",
       "      <th>2</th>\n",
       "      <td>Адыгея ТЦ \"Мега\"</td>\n",
       "      <td>2</td>\n",
       "    </tr>\n",
       "    <tr>\n",
       "      <th>3</th>\n",
       "      <td>Балашиха ТРК \"Октябрь-Киномир\"</td>\n",
       "      <td>3</td>\n",
       "    </tr>\n",
       "    <tr>\n",
       "      <th>4</th>\n",
       "      <td>Волжский ТЦ \"Волга Молл\"</td>\n",
       "      <td>4</td>\n",
       "    </tr>\n",
       "  </tbody>\n",
       "</table>\n",
       "</div>"
      ],
      "text/plain": [
       "                        shop_name  shop_id\n",
       "0   !Якутск Орджоникидзе, 56 фран        0\n",
       "1   !Якутск ТЦ \"Центральный\" фран        1\n",
       "2                Адыгея ТЦ \"Мега\"        2\n",
       "3  Балашиха ТРК \"Октябрь-Киномир\"        3\n",
       "4        Волжский ТЦ \"Волга Молл\"        4"
      ]
     },
     "execution_count": 11,
     "metadata": {},
     "output_type": "execute_result"
    }
   ],
   "source": [
    "shops.head()"
   ]
  },
  {
   "cell_type": "markdown",
   "id": "9c53a95a",
   "metadata": {
    "papermill": {
     "duration": 0.029119,
     "end_time": "2022-04-27T15:42:16.782111",
     "exception": false,
     "start_time": "2022-04-27T15:42:16.752992",
     "status": "completed"
    },
    "tags": []
   },
   "source": [
    "## Check Null values\n",
    "Conclusion: No value is missing or null."
   ]
  },
  {
   "cell_type": "code",
   "execution_count": 12,
   "id": "8a30f797",
   "metadata": {
    "execution": {
     "iopub.execute_input": "2022-04-27T15:42:16.842609Z",
     "iopub.status.busy": "2022-04-27T15:42:16.842334Z",
     "iopub.status.idle": "2022-04-27T15:42:17.199649Z",
     "shell.execute_reply": "2022-04-27T15:42:17.198626Z"
    },
    "papermill": {
     "duration": 0.390303,
     "end_time": "2022-04-27T15:42:17.202030",
     "exception": false,
     "start_time": "2022-04-27T15:42:16.811727",
     "status": "completed"
    },
    "tags": []
   },
   "outputs": [
    {
     "name": "stdout",
     "output_type": "stream",
     "text": [
      "date              0.0\n",
      "date_block_num    0.0\n",
      "shop_id           0.0\n",
      "item_id           0.0\n",
      "item_price        0.0\n",
      "item_cnt_day      0.0\n",
      "dtype: float64\n",
      "\n",
      "item_name           0.0\n",
      "item_id             0.0\n",
      "item_category_id    0.0\n",
      "dtype: float64\n",
      "\n",
      "item_category_name    0.0\n",
      "item_category_id      0.0\n",
      "dtype: float64\n",
      "\n",
      "item_category_name    0.0\n",
      "item_category_id      0.0\n",
      "dtype: float64\n",
      "\n",
      "shop_name    0.0\n",
      "shop_id      0.0\n",
      "dtype: float64\n"
     ]
    }
   ],
   "source": [
    "print(sales_train.isnull().mean())\n",
    "print()\n",
    "print(items.isnull().mean())\n",
    "print()\n",
    "print(item_cat.isnull().mean())\n",
    "print()\n",
    "print(item_cat.isnull().mean())\n",
    "print()\n",
    "print(shops.isnull().mean())"
   ]
  },
  {
   "cell_type": "markdown",
   "id": "a2c92ea6",
   "metadata": {
    "papermill": {
     "duration": 0.029666,
     "end_time": "2022-04-27T15:42:17.261970",
     "exception": false,
     "start_time": "2022-04-27T15:42:17.232304",
     "status": "completed"
    },
    "tags": []
   },
   "source": [
    "## Let's see at how many different values we are dealing with\n",
    "Conclusions:\n",
    "1. There is no redundant item/item_category/shop id\n",
    "1. There is no redundant item/item_category/shop name"
   ]
  },
  {
   "cell_type": "code",
   "execution_count": 13,
   "id": "cfd77d23",
   "metadata": {
    "execution": {
     "iopub.execute_input": "2022-04-27T15:42:17.323413Z",
     "iopub.status.busy": "2022-04-27T15:42:17.322769Z",
     "iopub.status.idle": "2022-04-27T15:42:17.350017Z",
     "shell.execute_reply": "2022-04-27T15:42:17.349100Z"
    },
    "papermill": {
     "duration": 0.060383,
     "end_time": "2022-04-27T15:42:17.352101",
     "exception": false,
     "start_time": "2022-04-27T15:42:17.291718",
     "status": "completed"
    },
    "tags": []
   },
   "outputs": [
    {
     "name": "stdout",
     "output_type": "stream",
     "text": [
      "True\n",
      "True\n",
      "True\n",
      "True\n",
      "True\n"
     ]
    }
   ],
   "source": [
    "print(items['item_id'].unique().size == items.shape[0])\n",
    "print(items['item_name'].unique().size == items.shape[0])\n",
    "print(item_cat['item_category_id'].unique().size == item_cat.shape[0])\n",
    "print(item_cat['item_category_name'].unique().size == item_cat.shape[0])\n",
    "print(shops['shop_id'].unique().size == shops.shape[0])"
   ]
  },
  {
   "cell_type": "markdown",
   "id": "2be08785",
   "metadata": {
    "papermill": {
     "duration": 0.03065,
     "end_time": "2022-04-27T15:42:17.413146",
     "exception": false,
     "start_time": "2022-04-27T15:42:17.382496",
     "status": "completed"
    },
    "tags": []
   },
   "source": [
    "## Some high level analysis"
   ]
  },
  {
   "cell_type": "code",
   "execution_count": 14,
   "id": "b52b9966",
   "metadata": {
    "execution": {
     "iopub.execute_input": "2022-04-27T15:42:17.476501Z",
     "iopub.status.busy": "2022-04-27T15:42:17.475918Z",
     "iopub.status.idle": "2022-04-27T15:42:17.481672Z",
     "shell.execute_reply": "2022-04-27T15:42:17.480885Z"
    },
    "papermill": {
     "duration": 0.04136,
     "end_time": "2022-04-27T15:42:17.484963",
     "exception": false,
     "start_time": "2022-04-27T15:42:17.443603",
     "status": "completed"
    },
    "tags": []
   },
   "outputs": [
    {
     "name": "stdout",
     "output_type": "stream",
     "text": [
      "Average of # of times an item is sold :  132.42440234551196\n"
     ]
    }
   ],
   "source": [
    "# Average # of times an item is sold\n",
    "print('Average of # of times an item is sold : ', sales_train.shape[0] / items.shape[0])"
   ]
  },
  {
   "cell_type": "markdown",
   "id": "7e6a00fa",
   "metadata": {
    "papermill": {
     "duration": 0.030341,
     "end_time": "2022-04-27T15:42:17.547377",
     "exception": false,
     "start_time": "2022-04-27T15:42:17.517036",
     "status": "completed"
    },
    "tags": []
   },
   "source": [
    "## Visualization of sales per item_id"
   ]
  },
  {
   "cell_type": "code",
   "execution_count": 15,
   "id": "16c676f8",
   "metadata": {
    "execution": {
     "iopub.execute_input": "2022-04-27T15:42:17.611030Z",
     "iopub.status.busy": "2022-04-27T15:42:17.610205Z",
     "iopub.status.idle": "2022-04-27T15:42:17.660151Z",
     "shell.execute_reply": "2022-04-27T15:42:17.659477Z"
    },
    "papermill": {
     "duration": 0.083699,
     "end_time": "2022-04-27T15:42:17.662002",
     "exception": false,
     "start_time": "2022-04-27T15:42:17.578303",
     "status": "completed"
    },
    "tags": []
   },
   "outputs": [
    {
     "data": {
      "text/html": [
       "<div>\n",
       "<style scoped>\n",
       "    .dataframe tbody tr th:only-of-type {\n",
       "        vertical-align: middle;\n",
       "    }\n",
       "\n",
       "    .dataframe tbody tr th {\n",
       "        vertical-align: top;\n",
       "    }\n",
       "\n",
       "    .dataframe thead th {\n",
       "        text-align: right;\n",
       "    }\n",
       "</style>\n",
       "<table border=\"1\" class=\"dataframe\">\n",
       "  <thead>\n",
       "    <tr style=\"text-align: right;\">\n",
       "      <th></th>\n",
       "      <th>0</th>\n",
       "      <th>1</th>\n",
       "      <th>2</th>\n",
       "      <th>3</th>\n",
       "      <th>4</th>\n",
       "      <th>5</th>\n",
       "      <th>6</th>\n",
       "      <th>7</th>\n",
       "      <th>8</th>\n",
       "      <th>9</th>\n",
       "      <th>...</th>\n",
       "      <th>22160</th>\n",
       "      <th>22161</th>\n",
       "      <th>22162</th>\n",
       "      <th>22163</th>\n",
       "      <th>22164</th>\n",
       "      <th>22165</th>\n",
       "      <th>22166</th>\n",
       "      <th>22167</th>\n",
       "      <th>22168</th>\n",
       "      <th>22169</th>\n",
       "    </tr>\n",
       "  </thead>\n",
       "  <tbody>\n",
       "    <tr>\n",
       "      <th>0</th>\n",
       "      <td>0.0</td>\n",
       "      <td>0.0</td>\n",
       "      <td>0.0</td>\n",
       "      <td>0.0</td>\n",
       "      <td>0.0</td>\n",
       "      <td>0.0</td>\n",
       "      <td>0.0</td>\n",
       "      <td>0.0</td>\n",
       "      <td>0.0</td>\n",
       "      <td>0.0</td>\n",
       "      <td>...</td>\n",
       "      <td>0.0</td>\n",
       "      <td>0.0</td>\n",
       "      <td>0.0</td>\n",
       "      <td>0.0</td>\n",
       "      <td>0.0</td>\n",
       "      <td>0.0</td>\n",
       "      <td>0.0</td>\n",
       "      <td>0.0</td>\n",
       "      <td>0.0</td>\n",
       "      <td>0.0</td>\n",
       "    </tr>\n",
       "    <tr>\n",
       "      <th>1</th>\n",
       "      <td>0.0</td>\n",
       "      <td>0.0</td>\n",
       "      <td>0.0</td>\n",
       "      <td>0.0</td>\n",
       "      <td>0.0</td>\n",
       "      <td>0.0</td>\n",
       "      <td>0.0</td>\n",
       "      <td>0.0</td>\n",
       "      <td>0.0</td>\n",
       "      <td>0.0</td>\n",
       "      <td>...</td>\n",
       "      <td>0.0</td>\n",
       "      <td>0.0</td>\n",
       "      <td>0.0</td>\n",
       "      <td>0.0</td>\n",
       "      <td>0.0</td>\n",
       "      <td>0.0</td>\n",
       "      <td>0.0</td>\n",
       "      <td>0.0</td>\n",
       "      <td>0.0</td>\n",
       "      <td>0.0</td>\n",
       "    </tr>\n",
       "    <tr>\n",
       "      <th>2</th>\n",
       "      <td>0.0</td>\n",
       "      <td>0.0</td>\n",
       "      <td>0.0</td>\n",
       "      <td>0.0</td>\n",
       "      <td>0.0</td>\n",
       "      <td>0.0</td>\n",
       "      <td>0.0</td>\n",
       "      <td>0.0</td>\n",
       "      <td>0.0</td>\n",
       "      <td>0.0</td>\n",
       "      <td>...</td>\n",
       "      <td>0.0</td>\n",
       "      <td>0.0</td>\n",
       "      <td>0.0</td>\n",
       "      <td>0.0</td>\n",
       "      <td>0.0</td>\n",
       "      <td>0.0</td>\n",
       "      <td>0.0</td>\n",
       "      <td>0.0</td>\n",
       "      <td>0.0</td>\n",
       "      <td>0.0</td>\n",
       "    </tr>\n",
       "    <tr>\n",
       "      <th>3</th>\n",
       "      <td>0.0</td>\n",
       "      <td>0.0</td>\n",
       "      <td>0.0</td>\n",
       "      <td>0.0</td>\n",
       "      <td>0.0</td>\n",
       "      <td>0.0</td>\n",
       "      <td>0.0</td>\n",
       "      <td>0.0</td>\n",
       "      <td>0.0</td>\n",
       "      <td>0.0</td>\n",
       "      <td>...</td>\n",
       "      <td>0.0</td>\n",
       "      <td>0.0</td>\n",
       "      <td>0.0</td>\n",
       "      <td>0.0</td>\n",
       "      <td>0.0</td>\n",
       "      <td>0.0</td>\n",
       "      <td>0.0</td>\n",
       "      <td>0.0</td>\n",
       "      <td>0.0</td>\n",
       "      <td>0.0</td>\n",
       "    </tr>\n",
       "    <tr>\n",
       "      <th>4</th>\n",
       "      <td>0.0</td>\n",
       "      <td>0.0</td>\n",
       "      <td>0.0</td>\n",
       "      <td>0.0</td>\n",
       "      <td>0.0</td>\n",
       "      <td>0.0</td>\n",
       "      <td>0.0</td>\n",
       "      <td>0.0</td>\n",
       "      <td>0.0</td>\n",
       "      <td>0.0</td>\n",
       "      <td>...</td>\n",
       "      <td>0.0</td>\n",
       "      <td>0.0</td>\n",
       "      <td>0.0</td>\n",
       "      <td>0.0</td>\n",
       "      <td>0.0</td>\n",
       "      <td>0.0</td>\n",
       "      <td>0.0</td>\n",
       "      <td>0.0</td>\n",
       "      <td>0.0</td>\n",
       "      <td>0.0</td>\n",
       "    </tr>\n",
       "  </tbody>\n",
       "</table>\n",
       "<p>5 rows × 22170 columns</p>\n",
       "</div>"
      ],
      "text/plain": [
       "   0      1      2      3      4      5      6      7      8      9      ...  \\\n",
       "0    0.0    0.0    0.0    0.0    0.0    0.0    0.0    0.0    0.0    0.0  ...   \n",
       "1    0.0    0.0    0.0    0.0    0.0    0.0    0.0    0.0    0.0    0.0  ...   \n",
       "2    0.0    0.0    0.0    0.0    0.0    0.0    0.0    0.0    0.0    0.0  ...   \n",
       "3    0.0    0.0    0.0    0.0    0.0    0.0    0.0    0.0    0.0    0.0  ...   \n",
       "4    0.0    0.0    0.0    0.0    0.0    0.0    0.0    0.0    0.0    0.0  ...   \n",
       "\n",
       "   22160  22161  22162  22163  22164  22165  22166  22167  22168  22169  \n",
       "0    0.0    0.0    0.0    0.0    0.0    0.0    0.0    0.0    0.0    0.0  \n",
       "1    0.0    0.0    0.0    0.0    0.0    0.0    0.0    0.0    0.0    0.0  \n",
       "2    0.0    0.0    0.0    0.0    0.0    0.0    0.0    0.0    0.0    0.0  \n",
       "3    0.0    0.0    0.0    0.0    0.0    0.0    0.0    0.0    0.0    0.0  \n",
       "4    0.0    0.0    0.0    0.0    0.0    0.0    0.0    0.0    0.0    0.0  \n",
       "\n",
       "[5 rows x 22170 columns]"
      ]
     },
     "execution_count": 15,
     "metadata": {},
     "output_type": "execute_result"
    }
   ],
   "source": [
    "sales_per_item = pd.DataFrame(np.zeros((sales_train['date_block_num'].unique().size, \n",
    "                                        items.shape[0])))\n",
    "sales_per_item.head()"
   ]
  },
  {
   "cell_type": "markdown",
   "id": "834a213d",
   "metadata": {
    "execution": {
     "iopub.execute_input": "2022-04-27T15:27:15.053615Z",
     "iopub.status.busy": "2022-04-27T15:27:15.053277Z",
     "iopub.status.idle": "2022-04-27T15:28:36.096253Z",
     "shell.execute_reply": "2022-04-27T15:28:36.094372Z",
     "shell.execute_reply.started": "2022-04-27T15:27:15.053567Z"
    },
    "papermill": {
     "duration": 0.031334,
     "end_time": "2022-04-27T15:42:17.724736",
     "exception": false,
     "start_time": "2022-04-27T15:42:17.693402",
     "status": "completed"
    },
    "tags": []
   },
   "source": [
    "for index, row in sales_train.iterrows():\n",
    "    if index % 10000 == 0:\n",
    "            print(index)\n",
    "    item = row['item_id']\n",
    "    month = row['date_block_num']\n",
    "    sales_per_item.loc[month, item] += row['item_cnt_day']"
   ]
  },
  {
   "cell_type": "code",
   "execution_count": 16,
   "id": "8baca0ff",
   "metadata": {
    "execution": {
     "iopub.execute_input": "2022-04-27T15:42:17.788987Z",
     "iopub.status.busy": "2022-04-27T15:42:17.788637Z",
     "iopub.status.idle": "2022-04-27T15:42:17.847822Z",
     "shell.execute_reply": "2022-04-27T15:42:17.846998Z"
    },
    "papermill": {
     "duration": 0.094055,
     "end_time": "2022-04-27T15:42:17.850209",
     "exception": false,
     "start_time": "2022-04-27T15:42:17.756154",
     "status": "completed"
    },
    "tags": []
   },
   "outputs": [],
   "source": [
    "sales_per_items = sales_train[['date_block_num', 'item_id', 'item_cnt_day']].copy()"
   ]
  },
  {
   "cell_type": "code",
   "execution_count": 17,
   "id": "8b323a08",
   "metadata": {
    "execution": {
     "iopub.execute_input": "2022-04-27T15:42:17.915466Z",
     "iopub.status.busy": "2022-04-27T15:42:17.914496Z",
     "iopub.status.idle": "2022-04-27T15:42:18.176922Z",
     "shell.execute_reply": "2022-04-27T15:42:18.176279Z"
    },
    "papermill": {
     "duration": 0.296969,
     "end_time": "2022-04-27T15:42:18.179075",
     "exception": false,
     "start_time": "2022-04-27T15:42:17.882106",
     "status": "completed"
    },
    "tags": []
   },
   "outputs": [
    {
     "data": {
      "text/html": [
       "<div>\n",
       "<style scoped>\n",
       "    .dataframe tbody tr th:only-of-type {\n",
       "        vertical-align: middle;\n",
       "    }\n",
       "\n",
       "    .dataframe tbody tr th {\n",
       "        vertical-align: top;\n",
       "    }\n",
       "\n",
       "    .dataframe thead th {\n",
       "        text-align: right;\n",
       "    }\n",
       "</style>\n",
       "<table border=\"1\" class=\"dataframe\">\n",
       "  <thead>\n",
       "    <tr style=\"text-align: right;\">\n",
       "      <th></th>\n",
       "      <th></th>\n",
       "      <th>item_cnt_day</th>\n",
       "    </tr>\n",
       "    <tr>\n",
       "      <th>date_block_num</th>\n",
       "      <th>item_id</th>\n",
       "      <th></th>\n",
       "    </tr>\n",
       "  </thead>\n",
       "  <tbody>\n",
       "    <tr>\n",
       "      <th rowspan=\"5\" valign=\"top\">0</th>\n",
       "      <th>19</th>\n",
       "      <td>1.0</td>\n",
       "    </tr>\n",
       "    <tr>\n",
       "      <th>27</th>\n",
       "      <td>7.0</td>\n",
       "    </tr>\n",
       "    <tr>\n",
       "      <th>28</th>\n",
       "      <td>8.0</td>\n",
       "    </tr>\n",
       "    <tr>\n",
       "      <th>29</th>\n",
       "      <td>4.0</td>\n",
       "    </tr>\n",
       "    <tr>\n",
       "      <th>32</th>\n",
       "      <td>299.0</td>\n",
       "    </tr>\n",
       "    <tr>\n",
       "      <th>...</th>\n",
       "      <th>...</th>\n",
       "      <td>...</td>\n",
       "    </tr>\n",
       "    <tr>\n",
       "      <th rowspan=\"5\" valign=\"top\">33</th>\n",
       "      <th>22162</th>\n",
       "      <td>10.0</td>\n",
       "    </tr>\n",
       "    <tr>\n",
       "      <th>22163</th>\n",
       "      <td>26.0</td>\n",
       "    </tr>\n",
       "    <tr>\n",
       "      <th>22164</th>\n",
       "      <td>15.0</td>\n",
       "    </tr>\n",
       "    <tr>\n",
       "      <th>22166</th>\n",
       "      <td>11.0</td>\n",
       "    </tr>\n",
       "    <tr>\n",
       "      <th>22167</th>\n",
       "      <td>37.0</td>\n",
       "    </tr>\n",
       "  </tbody>\n",
       "</table>\n",
       "<p>233912 rows × 1 columns</p>\n",
       "</div>"
      ],
      "text/plain": [
       "                        item_cnt_day\n",
       "date_block_num item_id              \n",
       "0              19                1.0\n",
       "               27                7.0\n",
       "               28                8.0\n",
       "               29                4.0\n",
       "               32              299.0\n",
       "...                              ...\n",
       "33             22162            10.0\n",
       "               22163            26.0\n",
       "               22164            15.0\n",
       "               22166            11.0\n",
       "               22167            37.0\n",
       "\n",
       "[233912 rows x 1 columns]"
      ]
     },
     "execution_count": 17,
     "metadata": {},
     "output_type": "execute_result"
    }
   ],
   "source": [
    "sales_per_items.groupby(['date_block_num', 'item_id']).sum()"
   ]
  },
  {
   "cell_type": "code",
   "execution_count": 18,
   "id": "41a9063d",
   "metadata": {
    "execution": {
     "iopub.execute_input": "2022-04-27T15:42:18.246640Z",
     "iopub.status.busy": "2022-04-27T15:42:18.245711Z",
     "iopub.status.idle": "2022-04-27T15:42:18.251043Z",
     "shell.execute_reply": "2022-04-27T15:42:18.250340Z"
    },
    "papermill": {
     "duration": 0.040991,
     "end_time": "2022-04-27T15:42:18.252963",
     "exception": false,
     "start_time": "2022-04-27T15:42:18.211972",
     "status": "completed"
    },
    "tags": []
   },
   "outputs": [],
   "source": [
    "# return a dataframe fitlered on the item_id,\n",
    "# thus requires the df to have item_id in column\n",
    "def dataframe_per_item(item_id, df):\n",
    "    return sales_train[sales_train['item_id'] == item_id].copy()"
   ]
  },
  {
   "cell_type": "code",
   "execution_count": 19,
   "id": "1cf93082",
   "metadata": {
    "execution": {
     "iopub.execute_input": "2022-04-27T15:42:18.318037Z",
     "iopub.status.busy": "2022-04-27T15:42:18.317253Z",
     "iopub.status.idle": "2022-04-27T15:42:18.699644Z",
     "shell.execute_reply": "2022-04-27T15:42:18.698712Z"
    },
    "papermill": {
     "duration": 0.417295,
     "end_time": "2022-04-27T15:42:18.701910",
     "exception": false,
     "start_time": "2022-04-27T15:42:18.284615",
     "status": "completed"
    },
    "tags": []
   },
   "outputs": [
    {
     "data": {
      "text/plain": [
       "<AxesSubplot:xlabel='date_block_num'>"
      ]
     },
     "execution_count": 19,
     "metadata": {},
     "output_type": "execute_result"
    },
    {
     "data": {
      "image/png": "[encoded data removed]",
      "text/plain": [
       "<Figure size 432x288 with 1 Axes>"
      ]
     },
     "metadata": {
      "needs_background": "light"
     },
     "output_type": "display_data"
    }
   ],
   "source": [
    "item_id = 4560\n",
    "filtered_df = dataframe_per_item(item_id, sales_train)\n",
    "filtered_df = filtered_df[['date_block_num', 'item_cnt_day']]\n",
    "filtered_df.groupby('date_block_num').sum().plot()"
   ]
  }
 ],
 "metadata": {
  "kernelspec": {
   "display_name": "Python 3",
   "language": "python",
   "name": "python3"
  },
  "language_info": {
   "codemirror_mode": {
    "name": "ipython",
    "version": 3
   },
   "file_extension": ".py",
   "mimetype": "text/x-python",
   "name": "python",
   "nbconvert_exporter": "python",
   "pygments_lexer": "ipython3",
   "version": "3.7.12"
  },
  "papermill": {
   "default_parameters": {},
   "duration": 16.348747,
   "end_time": "2022-04-27T15:42:19.456975",
   "environment_variables": {},
   "exception": null,
   "input_path": "__notebook__.ipynb",
   "output_path": "__notebook__.ipynb",
   "parameters": {},
   "start_time": "2022-04-27T15:42:03.108228",
   "version": "2.3.4"
  }
 },
 "nbformat": 4,
 "nbformat_minor": 5
}
